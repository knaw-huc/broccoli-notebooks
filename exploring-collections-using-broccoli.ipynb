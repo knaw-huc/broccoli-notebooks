{
 "cells": [
  {
   "cell_type": "markdown",
   "id": "05d15d97-b8d0-43c3-b628-b46b3058140e",
   "metadata": {},
   "source": [
    "# Exploring Collections using Broccoli"
   ]
  },
  {
   "cell_type": "markdown",
   "id": "846f8908-901f-4852-9411-1d9850010a3a",
   "metadata": {},
   "source": [
    "Generic introduction to Broccoli and Brinta.\n",
    "\n",
    "- `/brinta`: The Brinta API gives access to the indices.\n",
    "- `/projects`: The projects API gives access to search and detail views"
   ]
  },
  {
   "cell_type": "code",
   "execution_count": 23,
   "id": "711483c1-c9b1-4cd7-aa3c-2416cf114700",
   "metadata": {},
   "outputs": [
    {
     "data": {
      "text/html": [
       "<!DOCTYPE html>\n",
       "<html lang=\"en\">\n",
       "<head>\n",
       "    <meta charset=\"utf-8\">\n",
       "    <title>Broccoli</title>\n",
       "</head>\n",
       "\n",
       "<body id=\"preview\">\n",
       "<h1>ð¥¦ Broccoli - Broker API for Text and Annotations</h1>\n",
       "<p><a href=\"swagger\">API</a></p>\n",
       "<p><a href=\"about\">about</a></p>\n",
       "</body>\n",
       "</html>\n"
      ],
      "text/plain": [
       "<IPython.core.display.HTML object>"
      ]
     },
     "metadata": {},
     "output_type": "display_data"
    }
   ],
   "source": [
    "import requests\n",
    "import json\n",
    "from IPython.display import display\n",
    "from IPython.core.display import HTML\n",
    "\n",
    "BROCCOLI_BASE = 'https://broccoli.tt.di.huc.knaw.nl'\n",
    "GOETGEVONDEN_BASE = 'https://api.goetgevonden.nl'\n",
    "\n",
    "response = requests.get(BROCCOLI_BASE)\n",
    "display(HTML(response.text))"
   ]
  },
  {
   "cell_type": "code",
   "execution_count": 24,
   "id": "38efa5c6-cbe9-40bb-a15b-7a34f6f11ec3",
   "metadata": {},
   "outputs": [
    {
     "data": {
      "text/plain": [
       "'https://broccoli.tt.di.huc.knaw.nl/swagger'"
      ]
     },
     "execution_count": 24,
     "metadata": {},
     "output_type": "execute_result"
    }
   ],
   "source": [
    "about = '/about'\n",
    "api_doc = '/swagger'\n",
    "# The SWAGGER documentation doesn't display in the notebook. Just click the URL to view:\n",
    "BROCCOLI_BASE + api_doc\n"
   ]
  },
  {
   "cell_type": "markdown",
   "id": "e9e07aec-f6c5-4226-830c-1cc809007ba0",
   "metadata": {},
   "source": [
    "## Discovering which projects are available"
   ]
  },
  {
   "cell_type": "code",
   "execution_count": 25,
   "id": "581c69b6-17d5-4eb0-aef1-a744ff8f1154",
   "metadata": {},
   "outputs": [
    {
     "data": {
      "text/plain": [
       "['globalise', 'republic', 'suriano']"
      ]
     },
     "execution_count": 25,
     "metadata": {},
     "output_type": "execute_result"
    }
   ],
   "source": [
    "projects_url = BROCCOLI_BASE + '/projects'\n",
    "response = requests.get(projects_url)\n",
    "response.json()"
   ]
  },
  {
   "cell_type": "markdown",
   "id": "c83f1595-58d8-40e6-9ea0-4d2599822d4b",
   "metadata": {},
   "source": [
    "There are currently three projects available via Broccoli:\n",
    "\n",
    "- `globalise`: the API for transcriptions of the Dutch East India Company (VOC) used by e.g. the GLOBALISE Transcription Viewer (https://transcriptions.globalise.huygens.knaw.nl/).\n",
    "- `suriano`: the API for the correspondence of the diplomat Christoforo Suriano, used by the digital edition Correspondence of Suriano (https://suriano.huygens.knaw.nl).\n",
    "- `republic`: the API for the resolutions of the States General of the Dutch Republic (1576-1796), used by the Goetgevonden application (https://goetgevonden.nl).\n",
    "\n",
    "The Swagger documentation shows that the structure of a search URL is `/projects/{projectId}/search`. So for a search in the Globalise transcriptions, we need to use `/projects/globalise/search`:"
   ]
  },
  {
   "cell_type": "code",
   "execution_count": 26,
   "id": "b3834ce1-ec0a-4491-bd51-680ae49862a9",
   "metadata": {},
   "outputs": [
    {
     "data": {
      "text/plain": [
       "{'code': 404, 'message': 'bodyId not found: search'}"
      ]
     },
     "execution_count": 26,
     "metadata": {},
     "output_type": "execute_result"
    }
   ],
   "source": [
    "\n",
    "globalise_api = BROCCOLI_BASE + '/projects/globalise'\n",
    "globalise_search = globalise_api + '/search'\n",
    "response = requests.get(globalise_search)\n",
    "response.json()"
   ]
  },
  {
   "cell_type": "markdown",
   "id": "d017202b-2843-4a3d-85d5-3579481afd4c",
   "metadata": {},
   "source": [
    "We get a HTTP 404 error, because a search request requires us to send search parameters along with the request URL. Further on, you'll find out more about which parameters you can send to tailor your request to your needs, but for now, we'll do a simple text search to demonstrate basic full-text search. For this, all you need is to set up a query parameter dictionary with a key `text` and a search term as the value:"
   ]
  },
  {
   "cell_type": "code",
   "execution_count": 27,
   "id": "c1285b6e-2d51-4eb1-99b2-a11e5aaaa244",
   "metadata": {
    "scrolled": true
   },
   "outputs": [
    {
     "data": {
      "text/plain": [
       "{'total': {'value': 160366, 'relation': 'eq'},\n",
       " 'results': [{'_id': 'urn:globalise:NL-HaNA_1.04.02_1474_0503',\n",
       "   '_hits': {'text': ['Transport m 36433410 1/4. lb: <em>Peper</em> Teweten 487078. lb a:o 1659 als. genegotieert werden Gesien wat quantiteijt',\n",
       "     '<em>Peper</em> In Elk.',\n",
       "     'Monteringh op voorsz: <em>Peper</em>, Waarbij kan Jaar op de mallabaars, en Canarasz: Cust is 1012306¼. lb a„o',\n",
       "     '. min 21821580 1/8 lb <em>peper</em> Transporteere 254307. lb tot Coilan „ Calicoilan 232171. „ 487078. lb <em>peper</em>',\n",
       "     '. van 13858675½ lb poper Transporteere: 13858675½ lb <em>Peper</em> ƒ']},\n",
       "   'textTokenCount': 365,\n",
       "   'invNr': '1474',\n",
       "   'document': 'NL-HaNA_1.04.02_1474_0503',\n",
       "   'langIso': ['nld'],\n",
       "   'langLabel': ['Dutch']},\n",
       "  {'_id': 'urn:globalise:NL-HaNA_1.04.02_1444_0926',\n",
       "   '_hits': {'text': ['Rijp <em>peper</em>, en Zout - - - - - - - - - - - . . . . . . . . . . - - „ 91: 5: 3: Contant. . . . . . . .',\n",
       "     '. . . . . . „ 60:. . „ 202: 24: 607:10:—: Rijp, <em>peper</em>, en zout. . . . . . . . . . . . . . . . . . . -',\n",
       "     '„ 91: 5:3: Septemb: contant. . . . . . . . . . . . . . „ 63:. . „ 196: 42: 590: 12:8: Rijs <em>peper</em> en',\n",
       "     'en zout - - - - - - - - - Rijs <em>peper</em>, en zout Septemb: Contant. . - - Rijs <em>Peper</em>, en Zout. - - -  -',\n",
       "     'Rijs <em>peper</em>, en Zout- - . . .']},\n",
       "   'textTokenCount': 361,\n",
       "   'invNr': '1444',\n",
       "   'document': 'NL-HaNA_1.04.02_1444_0926',\n",
       "   'langIso': ['nld'],\n",
       "   'langLabel': ['Dutch']},\n",
       "  {'_id': 'urn:globalise:NL-HaNA_1.04.02_2060_0595',\n",
       "   '_hits': {'text': ['Souratte 17 Cnooten - - - - - - Lange <em>peper</em>. - caneel. - 22 caneel. - nooten. . . . caneel. - 23 25 noten',\n",
       "     'Clange <em>Peper</em> - - - - - - 10000. — 9828 — 18 garioffel nagelen - - - - - - - - 11078. — 11069. — nooten',\n",
       "     '- - - - - - - - - - - - 5045- 5032. - Vertoog wegens de gevallene minderheden op de specerijen en <em>peper</em>',\n",
       "     'L: - - - - - - 7750 - 7610. - 140. – <em>peper</em> swarte. . . . - - - 425000 -412338. —12662 — 2 3/8 r=m 165',\n",
       "     '– o 17 1/17. <em>peper</em> swarte. . . . . . . . lb. 500000 486052 —„ 13948 —„ 2 3/5 r=m 721½ <em>Peper</em> swarte.']},\n",
       "   'textTokenCount': 213,\n",
       "   'invNr': '2060',\n",
       "   'document': 'NL-HaNA_1.04.02_2060_0595',\n",
       "   'langIso': ['nld'],\n",
       "   'langLabel': ['Dutch']},\n",
       "  {'_id': 'urn:globalise:NL-HaNA_1.04.02_1111_1092',\n",
       "   '_hits': {'text': ['„ Japanse Campher lijff quintael <em>peper</em> „solpher twee quintaelen <em>peper</em> ende een halve „Candij suijcker',\n",
       "     'een quintael <em>peper</em> en drie quaet „vermelion twaelff quintaelen <em>peper</em> „quit silver twaelff quintaelen',\n",
       "     '<em>peper</em> Naegelen vijffthien quintaelen <em>peper</em> „toulie sesthien quintaelen <em>peper</em> tin drie quintaelenperder',\n",
       "     '„benjamin vijff quartaelen <em>peper</em> augul houdt ses thien quintaelen <em>peper</em> sandelhoudt sesthien vier quintaelen',\n",
       "     '<em>peper</em> „5']},\n",
       "   'textTokenCount': 356,\n",
       "   'invNr': '1111',\n",
       "   'document': 'NL-HaNA_1.04.02_1111_1092',\n",
       "   'langIso': ['nld'],\n",
       "   'langLabel': ['Dutch']},\n",
       "  {'_id': 'urn:globalise:NL-HaNA_1.04.02_1307_0741',\n",
       "   '_hits': {'text': [\"Uijtgevoerde coopmansz De ladingh van 't Jacht den bataviasen coopm: naar Maccauw <em>peper</em>— chiatourhout\",\n",
       "     'Loot— poetsjock- Tacht de valcq naa Maccouw <em>peper</em> Loot Tacht de bracq na Maccauw tandelhout Loot Toncquin',\n",
       "     'Jonck naar oude pienangh) cattoene gaaren cattoen cas sumba tegewas lange <em>peper</em> cust coraal poetsjock',\n",
       "     '. gesorteerde suijckeren. matten <em>peper</em>— Jonck naar Foncquin <em>peper</em> — gesorteerde. suyckeren gedroogde',\n",
       "     'pienangh poetsjock; Jappanhout canoen capole seecroon. caliatourhout <em>peper</em> - - sedert 29 maij 1675 met']},\n",
       "   'textTokenCount': 92,\n",
       "   'invNr': '1307',\n",
       "   'document': 'NL-HaNA_1.04.02_1307_0741',\n",
       "   'langIso': ['nld'],\n",
       "   'langLabel': ['Dutch']},\n",
       "  {'_id': 'urn:globalise:NL-HaNA_1.04.02_1444_0925',\n",
       "   '_hits': {'text': ['ƒ 6028:15:—:— 812:10:-:- ult„o november in Contant. . . . . . . . . . „ 77: „. „ 279: 40: Rijs, en <em>peper</em>',\n",
       "     '- - - - „ - „ 100:2:-:- december Contant. . . . . . . . . . „ 78: „. „ 283:42„ 851:12:8„- Rrijs en <em>peper</em>',\n",
       "     '- - - - - - - - - „ 98„8:-: februa: Contant. . . . . . . . . . „ 67:„ „ 223:12„ 669„15:—„ Rijs en <em>peper</em>',\n",
       "     'en zout - - - - - - - - - - - „ 98:-:6: Junij Contant. . . . . . . „ 77„ 276:12„ 828:15:-: Rijs <em>peper</em>',\n",
       "     'en Zout. . . . . . . . . . . - „ 98:11: 3: augustij Contant. . . . „ 79„ 290:18: 871:2:8: Rijs <em>peper</em>']},\n",
       "   'textTokenCount': 327,\n",
       "   'invNr': '1444',\n",
       "   'document': 'NL-HaNA_1.04.02_1444_0925',\n",
       "   'langIso': ['nld'],\n",
       "   'langLabel': ['Dutch']},\n",
       "  {'_id': 'urn:globalise:NL-HaNA_1.04.02_8428_0116',\n",
       "   '_hits': {'text': ['meede 400 picols <em>peper</em> 400 p=s thin 670 Juragan ranja dps Sleep en 25 koppen na Batavia voert meede 1130',\n",
       "     '„ p:r thin en 580 ps <em>peper</em> - 671 Juregan â Liema „ Sloep en 25 Coppen na Batavia voert _o 54 5p „ en',\n",
       "     '500 pls <em>peper</em> „ sloep en 20 — „ _„ _ — 400 612. _ Jasoe die p=l thin en 375 p s <em>peper</em> 673 — Beloran',\n",
       "     '- - - - - - „ 680 _: Sleeman _ 15 —„ — , —  250 p=ls thin en 275 p=ls <em>peper</em> 681 Nabas „ _ 26 — — „ —',\n",
       "     '— 502 p thin en 500 pls <em>peper</em> F 682 — Jumatan „ _ 20 — „ —: _  314½ p:ls thin en 312. p=l <em>peper</em> 683']},\n",
       "   'textTokenCount': 233,\n",
       "   'invNr': '8428',\n",
       "   'document': 'NL-HaNA_1.04.02_8428_0116',\n",
       "   'langIso': ['nld'],\n",
       "   'langLabel': ['Dutch']},\n",
       "  {'_id': 'urn:globalise:NL-HaNA_1.04.02_2060_0591',\n",
       "   '_hits': {'text': ['magelen - - - - - - - - - „ 16 <em>Peper</em> nag - - - - - - lb 40000 17 3/20 <em>peper</em> - - - - - - - - - - „ 17',\n",
       "     'Bengale 17/19 17 12/23 17 23/15 17 13/24 —. -. . . . . . - . „ - - - - - - - - - -„. - - - - - - - - <em>peper</em>',\n",
       "     '7535½ 164½ 2½. 7700 ——. — —. — —. — -. -—. —. — ——. —. —„— .—„ -. — —„ — -. - - -- 6912. — 2 s s 7/18. <em>peper</em>',\n",
       "     '. . . . . . . . . . . „ 599900 585676. ½. 14223½ 2¼r —. — 3/26 <em>Peper</em> - - - - - . . . 350000 343088 17',\n",
       "     '- - - - - - - - - —. — —. –. — — — — Vertoog Wegens de Gevallene minderheeden op de specerijen en <em>peper</em>']},\n",
       "   'textTokenCount': 99,\n",
       "   'invNr': '2060',\n",
       "   'document': 'NL-HaNA_1.04.02_2060_0591',\n",
       "   'langIso': ['nld'],\n",
       "   'langLabel': ['Dutch']},\n",
       "  {'_id': 'urn:globalise:NL-HaNA_1.04.02_7530_0751',\n",
       "   '_hits': {'text': [\"Naer Patna 816 lb Rompen 34000 „ mallebaerse <em>peper</em> die daer 't gewilste is, en meer dan de Javaense <em>peper</em>\",\n",
       "     'Haer Malda 13600 lb Coper 6800 „ thin 10200 „ spiaulten 13600 „ <em>peper</em> 471 „ vermilioen 166¼„ quicksilver',\n",
       "     '408 „ nagelen 204 „ rompen 204 „ Canneel 154. „ foelij 408 lb rompen om te verhandelen en 1632 lb <em>peper</em>',\n",
       "     'hoewel de helft tot Ro/a 15:4:- de 68 lb is vercoght Naar Decca Naer Bellesoor 50320 lb Coper 20400„ <em>peper</em>',\n",
       "     '1156 „ nagelen 408 „ Caneel 34680 lb <em>peper</em> 408 „ quickasilver 13600 „ Coper 451„ vermilioen giroffel']},\n",
       "   'textTokenCount': 96,\n",
       "   'invNr': '7530',\n",
       "   'document': 'NL-HaNA_1.04.02_7530_0751',\n",
       "   'langIso': ['nld'],\n",
       "   'langLabel': ['Dutch']},\n",
       "  {'_id': 'urn:globalise:NL-HaNA_1.04.02_8276_0097',\n",
       "   '_hits': {'text': [\"Eenelijk 3758. lb <em>peper</em> ontfangen. met „ 13. ' Meij. dagelijx verscheijde vaartuijgen <em>peper</em> uijt de boven\",\n",
       "     'Chineese die hier woonagtig sijn, gelost wierde, vervoegde ons bij Kee astra Jaja seijde hem daar <em>peper</em>',\n",
       "     \"die niet tot ons wierd gebragt die ons ten antwoord gaf, ik sal maken dat d' E Comp: van daag nog <em>peper</em>\",\n",
       "     \"krijgt, legen den avond bragte 35. sacken waarin 3499. lb <em>peper</em> 14. ' meij. ontfangen 3197. lb <em>peper</em>\",\n",
       "     ', besigtigde alle de Chineese huijsen eens, en vonden daar meer <em>peper</em> in was leggende als twee scheepen']},\n",
       "   'textTokenCount': 199,\n",
       "   'invNr': '8276',\n",
       "   'document': 'NL-HaNA_1.04.02_8276_0097',\n",
       "   'langIso': ['nld'],\n",
       "   'langLabel': ['Dutch']}],\n",
       " 'aggs': {}}"
      ]
     },
     "execution_count": 27,
     "metadata": {},
     "output_type": "execute_result"
    }
   ],
   "source": [
    "query_params = {'text': 'peper'}\n",
    "response = requests.post(globalise_search, json=query_params)\n",
    "response.json()"
   ]
  },
  {
   "cell_type": "markdown",
   "id": "36eb7f20-966a-421e-8f0d-f8f810a94e82",
   "metadata": {},
   "source": [
    "We get a response telling us there are a total of 160,366 results (pages) containing the string `peper`. Zooming in on an individual result (default 10 results per request) shows the same elements as shown in the Transcription Viewer:"
   ]
  },
  {
   "cell_type": "code",
   "execution_count": 28,
   "id": "67299a0a-7081-48f6-9094-94b9b17e78d7",
   "metadata": {},
   "outputs": [
    {
     "data": {
      "text/plain": [
       "{'_id': 'urn:globalise:NL-HaNA_1.04.02_2060_0595',\n",
       " '_hits': {'text': ['Souratte 17 Cnooten - - - - - - Lange <em>peper</em>. - caneel. - 22 caneel. - nooten. . . . caneel. - 23 25 noten',\n",
       "   'Clange <em>Peper</em> - - - - - - 10000. — 9828 — 18 garioffel nagelen - - - - - - - - 11078. — 11069. — nooten',\n",
       "   '- - - - - - - - - - - - 5045- 5032. - Vertoog wegens de gevallene minderheden op de specerijen en <em>peper</em>',\n",
       "   'L: - - - - - - 7750 - 7610. - 140. – <em>peper</em> swarte. . . . - - - 425000 -412338. —12662 — 2 3/8 r=m 165',\n",
       "   '– o 17 1/17. <em>peper</em> swarte. . . . . . . . lb. 500000 486052 —„ 13948 —„ 2 3/5 r=m 721½ <em>Peper</em> swarte.']},\n",
       " 'textTokenCount': 213,\n",
       " 'invNr': '2060',\n",
       " 'document': 'NL-HaNA_1.04.02_2060_0595',\n",
       " 'langIso': ['nld'],\n",
       " 'langLabel': ['Dutch']}"
      ]
     },
     "execution_count": 28,
     "metadata": {},
     "output_type": "execute_result"
    }
   ],
   "source": [
    "response.json()['results'][2]"
   ]
  },
  {
   "cell_type": "markdown",
   "id": "7def7835-9578-499e-bca8-db3375a5701d",
   "metadata": {},
   "source": [
    "The `text` property shows snippets with the context of the search term `peper`, but to access the full document, we need to extract the `document` identifier, which we can then request \n",
    "\n",
    "**TO DO**: figure out how we can request the full text of a document."
   ]
  },
  {
   "cell_type": "markdown",
   "id": "9745736b-d0b2-4705-aa43-7851b06137b1",
   "metadata": {},
   "source": [
    "## Exploring the Indexes\n",
    "\n",
    "Documents indexed by each of the project have multiple properties, inlcuding textual elements and metadata. The metadata can be used to refine queries and filter results. But to know which metadata fields are available and how they can be used to refine and filter, you can query the Brinta API per project, using (as shown in the Swagger documentation) `/brinta/{projectId}/indices`:"
   ]
  },
  {
   "cell_type": "code",
   "execution_count": 29,
   "id": "4962930e-b991-431a-bff0-79c6a3508336",
   "metadata": {},
   "outputs": [
    {
     "name": "stdout",
     "output_type": "stream",
     "text": [
      "{\n",
      "    \"globalise-2024.03.18-test\": {\n",
      "        \"invNr\": \"keyword\",\n",
      "        \"document\": \"keyword\",\n",
      "        \"langIso\": \"keyword\",\n",
      "        \"langLabel\": \"keyword\"\n",
      "    },\n",
      "    \"globalise-2024.03.18-4\": {\n",
      "        \"invNr\": \"keyword\",\n",
      "        \"document\": \"keyword\",\n",
      "        \"langIso\": \"keyword\",\n",
      "        \"langLabel\": \"keyword\"\n",
      "    },\n",
      "    \"globalise-2024.03.18-3\": {\n",
      "        \"invNr\": \"keyword\",\n",
      "        \"document\": \"keyword\",\n",
      "        \"lang\": \"keyword\"\n",
      "    },\n",
      "    \"globalise-2024.03.18-2\": {\n",
      "        \"invNr\": \"keyword\",\n",
      "        \"document\": \"keyword\"\n",
      "    },\n",
      "    \"globalise-2024.03.18\": {\n",
      "        \"invNr\": \"keyword\",\n",
      "        \"document\": \"keyword\"\n",
      "    }\n",
      "}\n"
     ]
    }
   ],
   "source": [
    "response = requests.get(BROCCOLI_BASE + '/brinta/globalise/indices')\n",
    "print(json.dumps(response.json(), indent=4))"
   ]
  },
  {
   "cell_type": "markdown",
   "id": "a1f2c630-ec78-49f7-8f03-aff671588397",
   "metadata": {},
   "source": [
    "At the point of writing this notebook, there are three `globalise` indexes, all based on versions of the data from 18 March 2024. The indexes all share the document properties `invNr` and `document`, but index `2024.03.18-3` also has a `lang` property that encodes the language of a document. The metadata is currently limited to these field, but as the project progresses, more properties will become available and queryable.\n",
    "\n"
   ]
  },
  {
   "cell_type": "code",
   "execution_count": 30,
   "id": "fced735f-7d5f-4ef6-8b94-e5d96f4f5d77",
   "metadata": {},
   "outputs": [
    {
     "name": "stdout",
     "output_type": "stream",
     "text": [
      "{\n",
      "    \"code\": 405,\n",
      "    \"message\": \"HTTP 405 Method Not Allowed\"\n",
      "}\n"
     ]
    }
   ],
   "source": [
    "response = requests.get(BROCCOLI_BASE + '/brinta/globalise/in/')\n",
    "print(json.dumps(response.json(), indent=4))"
   ]
  },
  {
   "cell_type": "markdown",
   "id": "3a22fc1b-bb78-40a5-93ce-99be5f7ddbef",
   "metadata": {},
   "source": [
    "For Suriano, we see a single index, with different document properties that are indexed:"
   ]
  },
  {
   "cell_type": "code",
   "execution_count": 31,
   "id": "c9f585c1-d4fb-4287-9428-5a90b9b23e60",
   "metadata": {},
   "outputs": [
    {
     "name": "stdout",
     "output_type": "stream",
     "text": [
      "{\n",
      "    \"surind-029\": {\n",
      "        \"date\": \"date\",\n",
      "        \"recipient\": \"keyword\",\n",
      "        \"sender\": \"keyword\",\n",
      "        \"summary\": \"text\",\n",
      "        \"entityNames\": \"keyword\"\n",
      "    }\n",
      "}\n"
     ]
    }
   ],
   "source": [
    "response = requests.get(BROCCOLI_BASE + '/brinta/suriano/indices')\n",
    "print(json.dumps(response.json(), indent=4))"
   ]
  },
  {
   "cell_type": "markdown",
   "id": "b4bd2536-68e5-4a4e-9b81-4c34ca53673e",
   "metadata": {},
   "source": [
    "In the Suriano project, document metadata includes the `sender`, `recipient` and `date` of each letter, as well as a `summary` and a list of identified `entityNames`.\n",
    "\n",
    "For Republic, there is a long list of document properties:"
   ]
  },
  {
   "cell_type": "code",
   "execution_count": 9,
   "id": "38e7c024-b569-47a3-a6ca-308f82c663e2",
   "metadata": {},
   "outputs": [
    {
     "name": "stdout",
     "output_type": "stream",
     "text": [
      "{\n",
      "    \"republic-2025-05-01\": {\n",
      "        \"textType\": \"keyword\",\n",
      "        \"resolutionType\": \"keyword\",\n",
      "        \"propositionType\": \"keyword\",\n",
      "        \"delegateName\": \"keyword\",\n",
      "        \"personName\": \"keyword\",\n",
      "        \"roleName\": \"keyword\",\n",
      "        \"roleCategories\": \"keyword\",\n",
      "        \"locationName\": \"keyword\",\n",
      "        \"locationCategories\": \"keyword\",\n",
      "        \"organisationName\": \"keyword\",\n",
      "        \"organisationCategories\": \"keyword\",\n",
      "        \"commissionName\": \"keyword\",\n",
      "        \"commissionCategories\": \"keyword\",\n",
      "        \"sessionWeekday\": \"keyword\",\n",
      "        \"delegateId\": \"keyword\",\n",
      "        \"personId\": \"keyword\",\n",
      "        \"roleId\": \"keyword\",\n",
      "        \"locationId\": \"keyword\",\n",
      "        \"organisationId\": \"keyword\",\n",
      "        \"commissionId\": \"keyword\",\n",
      "        \"bodyType\": \"keyword\",\n",
      "        \"sessionDate\": \"date\",\n",
      "        \"sessionDay\": \"byte\",\n",
      "        \"sessionMonth\": \"byte\",\n",
      "        \"sessionYear\": \"short\"\n",
      "    }\n",
      "}\n"
     ]
    }
   ],
   "source": [
    "response = requests.get(BROCCOLI_BASE + '/brinta/republic/indices')\n",
    "print(json.dumps(response.json(), indent=4))"
   ]
  },
  {
   "cell_type": "markdown",
   "id": "8c778b96-130e-4d9d-bd04-aa57f0ba7484",
   "metadata": {},
   "source": [
    "The generic broccoli server gives access to a Republic index made on 2025-05-01. \n",
    "\n",
    "If you send the same request to the Goetgevonden API, you get access to indices made on different dates, based on more recent versions of the data:"
   ]
  },
  {
   "cell_type": "code",
   "execution_count": 10,
   "id": "d9db93b5-e09e-4898-9c7c-e4b31448d156",
   "metadata": {
    "scrolled": true
   },
   "outputs": [
    {
     "name": "stdout",
     "output_type": "stream",
     "text": [
      "{\n",
      "    \"republic-2024.11.30\": {\n",
      "        \"textType\": \"keyword\",\n",
      "        \"resolutionType\": \"keyword\",\n",
      "        \"propositionType\": \"keyword\",\n",
      "        \"delegateName\": \"keyword\",\n",
      "        \"personName\": \"keyword\",\n",
      "        \"roleName\": \"keyword\",\n",
      "        \"roleCategories\": \"keyword\",\n",
      "        \"locationName\": \"keyword\",\n",
      "        \"locationCategories\": \"keyword\",\n",
      "        \"organisationName\": \"keyword\",\n",
      "        \"organisationCategories\": \"keyword\",\n",
      "        \"commissionName\": \"keyword\",\n",
      "        \"commissionCategories\": \"keyword\",\n",
      "        \"sessionWeekday\": \"keyword\",\n",
      "        \"delegateId\": \"keyword\",\n",
      "        \"personId\": \"keyword\",\n",
      "        \"roleId\": \"keyword\",\n",
      "        \"locationId\": \"keyword\",\n",
      "        \"organisationId\": \"keyword\",\n",
      "        \"commissionId\": \"keyword\",\n",
      "        \"bodyType\": \"keyword\",\n",
      "        \"sessionDate\": \"date\",\n",
      "        \"sessionDay\": \"byte\",\n",
      "        \"sessionMonth\": \"byte\",\n",
      "        \"sessionYear\": \"short\"\n",
      "    }\n",
      "}\n"
     ]
    }
   ],
   "source": [
    "response = requests.get(GOETGEVONDEN_BASE + '/brinta/republic/indices')\n",
    "print(json.dumps(response.json(), indent=4))"
   ]
  },
  {
   "cell_type": "markdown",
   "id": "abcbaa97-1733-4616-bd13-0265e65fec08",
   "metadata": {},
   "source": [
    "### Querying Resolutions\n",
    "\n",
    "You can query the resolutions in the same way as the Globalise VOC transcriptions, using a dictionary with a `text` property:"
   ]
  },
  {
   "cell_type": "code",
   "execution_count": 11,
   "id": "a8925de4-12e1-4cb7-b2b0-a867ed4e42d0",
   "metadata": {},
   "outputs": [
    {
     "data": {
      "text/plain": [
       "dict_keys(['total', 'results', 'aggs'])"
      ]
     },
     "execution_count": 11,
     "metadata": {},
     "output_type": "execute_result"
    }
   ],
   "source": [
    "republic_api = GOETGEVONDEN_BASE + '/projects/republic'\n",
    "republic_search = republic_api + '/search'\n",
    "\n",
    "\n",
    "query = {'text': 'peper'}\n",
    "response = requests.post(republic_search, json=query)\n",
    "data = response.json()\n",
    "data.keys()"
   ]
  },
  {
   "cell_type": "code",
   "execution_count": 12,
   "id": "5f92cb53-60b1-4335-b447-7bf5f6d6df3f",
   "metadata": {},
   "outputs": [
    {
     "data": {
      "text/plain": [
       "{'_id': 'urn:republic:inv-3276-date-1667-09-15-session-74-resolution-13',\n",
       " '_hits': {'text': ['gecomen waren, dat uijt Engelandt binnen dese Landen was gebracht een seer notable partije verbrande <em>Peper</em>',\n",
       "   ', dewelcke sinden brandt van Londen geweest sijnde, alleen de forme van <em>Peper</em>, doch geensints eenige',\n",
       "   'edoch dat evenwel eenige baetsoeckende Luijden daerop scheenen uijt te wesen, om de voors verbrande <em>Peper</em>',\n",
       "   \"sal werden, op pane dat die geene, die eenige vande voors verbrande <em>Peper</em>, contrarie 't voors verboth\",\n",
       "   \"sal hebben ingevoert, vercocht, ofte oock met andere <em>Peper</em> vermenght 't zij in groote ofte in cleijne\"]},\n",
       " 'textType': 'handwritten',\n",
       " 'resolutionType': 'ordinaris',\n",
       " 'propositionType': 'onbekend',\n",
       " 'sessionWeekday': 'donderdag',\n",
       " 'bodyType': 'Resolution',\n",
       " 'sessionDate': '1667-09-15',\n",
       " 'sessionDay': 15,\n",
       " 'sessionMonth': 9,\n",
       " 'sessionYear': 1667}"
      ]
     },
     "execution_count": 12,
     "metadata": {},
     "output_type": "execute_result"
    }
   ],
   "source": [
    "data['results'][0]"
   ]
  },
  {
   "cell_type": "code",
   "execution_count": 13,
   "id": "ffa10e31-096d-478b-9888-aa1242161f3d",
   "metadata": {},
   "outputs": [
    {
     "data": {
      "text/plain": [
       "{}"
      ]
     },
     "execution_count": 13,
     "metadata": {},
     "output_type": "execute_result"
    }
   ],
   "source": [
    "data['aggs']"
   ]
  },
  {
   "cell_type": "markdown",
   "id": "30fa75a9-aeb4-46aa-a40a-6c89300be8dd",
   "metadata": {},
   "source": [
    "There are no aggregations, because the query only contained a `text` property. If we can get aggregation information, we need to include properties that are indexed by Brinta and exposed to API. The following properties can be used:\n",
    "\n",
    "- **as part of the query** to filter the results, and\n",
    "- **as aggregations** to retrieve a summary of the possible values of a property.\n",
    "\n"
   ]
  },
  {
   "cell_type": "code",
   "execution_count": 14,
   "id": "f84881e6-6e21-4b60-ac01-ce3faf2d4516",
   "metadata": {},
   "outputs": [
    {
     "data": {
      "text/plain": [
       "{'textType': 'keyword',\n",
       " 'resolutionType': 'keyword',\n",
       " 'propositionType': 'keyword',\n",
       " 'delegateName': 'keyword',\n",
       " 'personName': 'keyword',\n",
       " 'roleName': 'keyword',\n",
       " 'roleCategories': 'keyword',\n",
       " 'locationName': 'keyword',\n",
       " 'locationCategories': 'keyword',\n",
       " 'organisationName': 'keyword',\n",
       " 'organisationCategories': 'keyword',\n",
       " 'commissionName': 'keyword',\n",
       " 'commissionCategories': 'keyword',\n",
       " 'sessionWeekday': 'keyword',\n",
       " 'delegateId': 'keyword',\n",
       " 'personId': 'keyword',\n",
       " 'roleId': 'keyword',\n",
       " 'locationId': 'keyword',\n",
       " 'organisationId': 'keyword',\n",
       " 'commissionId': 'keyword',\n",
       " 'bodyType': 'keyword',\n",
       " 'sessionDate': 'date',\n",
       " 'sessionDay': 'byte',\n",
       " 'sessionMonth': 'byte',\n",
       " 'sessionYear': 'short'}"
      ]
     },
     "execution_count": 14,
     "metadata": {},
     "output_type": "execute_result"
    }
   ],
   "source": [
    "response = requests.get(GOETGEVONDEN_BASE + '/brinta/republic/indices/')\n",
    "data = response.json()\n",
    "data['republic-2024.11.30']"
   ]
  },
  {
   "cell_type": "markdown",
   "id": "46e797a1-a9d9-4493-8c42-381ba3204ae7",
   "metadata": {},
   "source": [
    "The following query parameters include a full-text query and a request for aggregations of the `organisationName` and `organisationCategories`:"
   ]
  },
  {
   "cell_type": "code",
   "execution_count": 15,
   "id": "0d5c0828-d99f-46c6-9165-8cd42c1b2b62",
   "metadata": {},
   "outputs": [],
   "source": [
    "query = {\n",
    "    'text': 'paarden OR paerden',\n",
    "    'terms': {},\n",
    "    'aggs': {\n",
    "        'organisationName': {\n",
    "            'order': 'countDesc',\n",
    "            'size': 25\n",
    "        },\n",
    "        'organisationCategories': {\n",
    "            'order': 'countDesc',\n",
    "            'size': 25\n",
    "        }\n",
    "    }\n",
    "}\n",
    "\n",
    "result = requests.post(republic_search, json=query)\n",
    "data = result.json()\n"
   ]
  },
  {
   "cell_type": "code",
   "execution_count": 16,
   "id": "855edcfc-204c-4909-bade-c5fab36a6a4f",
   "metadata": {},
   "outputs": [
    {
     "data": {
      "text/plain": [
       "dict_keys(['total', 'results', 'aggs'])"
      ]
     },
     "execution_count": 16,
     "metadata": {},
     "output_type": "execute_result"
    }
   ],
   "source": [
    "data.keys()"
   ]
  },
  {
   "cell_type": "markdown",
   "id": "7cb22fa6-d65f-4f62-ad1a-7b3e2f98dd60",
   "metadata": {},
   "source": [
    "This time, the response from Broccoli contains `aggs` or aggregations. These contain the counts for the number of resolutions containing a certain `organisationName` or `organisationCategories` value."
   ]
  },
  {
   "cell_type": "code",
   "execution_count": 17,
   "id": "fd73ee24-a22f-4bc7-80c6-749468510f84",
   "metadata": {},
   "outputs": [
    {
     "data": {
      "text/plain": [
       "dict_keys(['organisationName', 'organisationCategories'])"
      ]
     },
     "execution_count": 17,
     "metadata": {},
     "output_type": "execute_result"
    }
   ],
   "source": [
    "data['aggs'].keys()"
   ]
  },
  {
   "cell_type": "code",
   "execution_count": 18,
   "id": "2ba6dd50-f266-4684-bcb9-84badd45e329",
   "metadata": {},
   "outputs": [
    {
     "data": {
      "text/plain": [
       "{'Raad van State': 2720,\n",
       " 'Admiraliteit van Rotterdam': 510,\n",
       " 'Admiraliteit van Zeeland': 460,\n",
       " 'Hof van de Koning van Engeland': 313,\n",
       " 'Generaliteitsrekenkamer': 299,\n",
       " 'Staten van Zeeland': 294,\n",
       " 'Staten-Generaal van de Republiek': 282,\n",
       " 'Gezamenlijke Admiraliteiten': 234,\n",
       " 'Regimenten - Dragonders': 162,\n",
       " 'Regimenten - Garderegimenten': 153,\n",
       " 'Regimenten - Cavallerie': 145,\n",
       " 'Staten van Holland en Westfriesland': 119,\n",
       " 'Admiraliteit van Amsterdam': 115,\n",
       " 'Hof van de Koning van Frankrijk': 115,\n",
       " 'Staten van Stad en Lande': 109,\n",
       " 'Admiraliteit van Friesland': 104,\n",
       " 'Leger van den Staat': 94,\n",
       " 'Staten van Friesland': 85,\n",
       " 'Regiment van den Heere Prince van Nassau': 82,\n",
       " 'Hof van de Duitse Keizer': 80,\n",
       " 'Staten van Gelderland': 71,\n",
       " 'Admiraliteit van Westfriesland': 68,\n",
       " 'Staten van Overijssel': 65,\n",
       " 'Staten van Utrecht': 64,\n",
       " 'Plaatselijke overheid van Maastricht': 57}"
      ]
     },
     "execution_count": 18,
     "metadata": {},
     "output_type": "execute_result"
    }
   ],
   "source": [
    "import pandas as pd\n",
    "\n",
    "data['aggs']['organisationName']"
   ]
  },
  {
   "cell_type": "code",
   "execution_count": 19,
   "id": "5610a9b9-5259-4e9e-a88a-196917cbc1ae",
   "metadata": {},
   "outputs": [
    {
     "data": {
      "text/plain": [
       "{'Republiek': 5456,\n",
       " 'Landelijk': 4132,\n",
       " 'Generaliteit': 4025,\n",
       " 'Bestuur': 3964,\n",
       " 'Oorlog': 2391,\n",
       " 'Regionaal': 1952,\n",
       " 'Zeevaart': 1394,\n",
       " 'Admiraliteit': 1345,\n",
       " 'Regiment': 1090,\n",
       " 'Europa': 1062,\n",
       " 'Diplomatie': 721,\n",
       " 'Regimenten op naam': 715,\n",
       " 'Vorstenhof': 704,\n",
       " 'Regimenten naar wapen': 436,\n",
       " 'Financiën': 344,\n",
       " 'Plaatselijk': 263,\n",
       " 'Rechtspraak': 215,\n",
       " 'Wereld': 108,\n",
       " 'Zuidelijke Nederlanden': 105,\n",
       " 'Handel': 69,\n",
       " 'Regimenten naar herkomst': 38,\n",
       " 'Godsdienst': 33,\n",
       " 'Bataafse tijd': 31,\n",
       " 'Rooms-Katholiek': 19,\n",
       " 'Munt': 10}"
      ]
     },
     "execution_count": 19,
     "metadata": {},
     "output_type": "execute_result"
    }
   ],
   "source": [
    "data['aggs']['organisationCategories']"
   ]
  },
  {
   "cell_type": "markdown",
   "id": "a054fe3e-a62f-4ec8-ae33-4a6a08827f3d",
   "metadata": {},
   "source": [
    "The values of property can be added as `terms` to the query to only get resolutions that contain specific organisations or organisations of a specific category."
   ]
  },
  {
   "cell_type": "code",
   "execution_count": 20,
   "id": "541ba3d8-9111-4cca-941e-2744aefaf2df",
   "metadata": {},
   "outputs": [
    {
     "data": {
      "text/plain": [
       "{'organisationName': {'Admiraliteit van Rotterdam': 510,\n",
       "  'Raad van State': 56,\n",
       "  'Gezamenlijke Admiraliteiten': 24,\n",
       "  'Admiraliteit van Zeeland': 17,\n",
       "  'Staten van Zeeland': 15,\n",
       "  'Admiraliteit van Westfriesland': 13,\n",
       "  'Staten-Generaal van de Republiek': 13,\n",
       "  'Admiraliteit van Amsterdam': 11,\n",
       "  'Admiraliteit van Friesland': 9,\n",
       "  'Generaliteitsrekenkamer': 9,\n",
       "  'Leger van den Staat': 7,\n",
       "  'Hof van de Koning van Engeland': 6,\n",
       "  'Hof van de Koning van Frankrijk': 6,\n",
       "  'Plaatselijke overheid van Maastricht': 6,\n",
       "  'Regimenten - Garderegimenten': 6,\n",
       "  'Staten van Gelderland': 6,\n",
       "  'Raad van Vlaanderen': 4,\n",
       "  'Regimenten - Cavallerie': 4,\n",
       "  'Regimenten - Dragonders': 4,\n",
       "  'Staten van Holland en Westfriesland': 4,\n",
       "  'Westindische Compagnie': 4,\n",
       "  'Battaillon van het tweede Regiment Orange Nassau': 3,\n",
       "  'Comptoir-Generaal van de Unie': 3,\n",
       "  'Hof van Gelderland': 3,\n",
       "  'Hof van Holland': 3},\n",
       " 'organisationCategories': {'Admiraliteit': 510,\n",
       "  'Generaliteit': 510,\n",
       "  'Oorlog': 510,\n",
       "  'Regionaal': 510,\n",
       "  'Republiek': 510,\n",
       "  'Zeevaart': 510,\n",
       "  'Bestuur': 113,\n",
       "  'Landelijk': 95,\n",
       "  'Europa': 29,\n",
       "  'Regiment': 16,\n",
       "  'Plaatselijk': 15,\n",
       "  'Rechtspraak': 15,\n",
       "  'Diplomatie': 11,\n",
       "  'Financiën': 11,\n",
       "  'Regimenten op naam': 11,\n",
       "  'Vorstenhof': 11,\n",
       "  'Regimenten naar wapen': 9,\n",
       "  'Handel': 5,\n",
       "  'Wereld': 5,\n",
       "  'Zuidelijke Nederlanden': 4,\n",
       "  'Regimenten naar herkomst': 2,\n",
       "  'Munt': 1}}"
      ]
     },
     "execution_count": 20,
     "metadata": {},
     "output_type": "execute_result"
    }
   ],
   "source": [
    "query = {\n",
    "    'text': 'paarden OR paerden',\n",
    "    'terms': {'organisationName': ['Admiraliteit van Rotterdam']},\n",
    "    'aggs': {\n",
    "        'organisationName': {\n",
    "            'order': 'countDesc',\n",
    "            'size': 25\n",
    "        },\n",
    "        'organisationCategories': {\n",
    "            'order': 'countDesc',\n",
    "            'size': 25\n",
    "        }\n",
    "    }\n",
    "}\n",
    "\n",
    "result = requests.post(republic_search, json=query)\n",
    "data = result.json()\n",
    "\n",
    "data['aggs']"
   ]
  },
  {
   "cell_type": "code",
   "execution_count": 21,
   "id": "3de6c5c0-eebd-455a-9df7-1c104c2ed6c1",
   "metadata": {},
   "outputs": [],
   "source": [
    "query = {\n",
    "    'terms': {},\n",
    "    'date': {\n",
    "        'name': 'sessionDate',\n",
    "        'from': '1671-01-01',\n",
    "        'to': '1720-12-31'\n",
    "    },\n",
    "    'aggs': {\n",
    "        'roleName': {\n",
    "            'order': 'countDesc',\n",
    "            'size': 25\n",
    "        },\n",
    "        'roleLabels': {\n",
    "            'order': 'countDesc',\n",
    "            'size': 25\n",
    "        }\n",
    "    }\n",
    "}\n",
    "\n",
    "republic_api = BROCCOLI_BASE + '/projects/republic'\n",
    "republic_search = republic_api + '/search'\n",
    "\n",
    "result = requests.post(republic_search, json=query)\n",
    "data = result.json()\n"
   ]
  },
  {
   "cell_type": "code",
   "execution_count": null,
   "id": "206dc3a7-564a-4022-9da5-f1849a6eee0a",
   "metadata": {},
   "outputs": [],
   "source": []
  },
  {
   "cell_type": "code",
   "execution_count": 22,
   "id": "9d7ac846-26f2-4b81-ae28-7503a6e1b950",
   "metadata": {},
   "outputs": [
    {
     "data": {
      "text/plain": [
       "{'roleName': {'koning': 38832,\n",
       "  'extraordinaris envoyé': 29079,\n",
       "  'griffier': 24223,\n",
       "  'majesteit': 15923,\n",
       "  'graaf': 13585,\n",
       "  'kapitein': 12458,\n",
       "  'generaal': 10936,\n",
       "  'keizer': 10778,\n",
       "  'gedeputeerde': 10657,\n",
       "  'commissaris': 10543,\n",
       "  'koopman': 10224,\n",
       "  'keurvorst': 10201,\n",
       "  'hertog': 10075,\n",
       "  'lieutenant': 9887,\n",
       "  'kolonel': 9850,\n",
       "  'ambassadeur': 8908,\n",
       "  'commandant': 7443,\n",
       "  'minister': 7120,\n",
       "  'envoyé': 7119,\n",
       "  'extraordinaris ambassadeur': 6904,\n",
       "  'officier': 6313,\n",
       "  'majoor': 6223,\n",
       "  'baron': 5787,\n",
       "  'burger': 5409,\n",
       "  'consul': 5234}}"
      ]
     },
     "execution_count": 22,
     "metadata": {},
     "output_type": "execute_result"
    }
   ],
   "source": [
    "query = {\n",
    "    'terms': {'roleLabels': 'Status & relaties'},\n",
    "    'date': {\n",
    "        'name': 'sessionDate',\n",
    "        'from': '1671-01-01',\n",
    "        'to': '1720-12-31'\n",
    "    },\n",
    "    'aggs': {\n",
    "        'roleName': {\n",
    "            'order': 'countDesc',\n",
    "            'size': 25\n",
    "        },\n",
    "        'roleLabels': {\n",
    "            'order': 'countDesc',\n",
    "            'size': 25\n",
    "        }\n",
    "    }\n",
    "}\n",
    "\n",
    "republic_api = BROCCOLI_BASE + '/projects/republic'\n",
    "republic_search = republic_api + '/search'\n",
    "\n",
    "result = requests.post(republic_search, json=query)\n",
    "data = result.json()\n",
    "data['aggs']"
   ]
  },
  {
   "cell_type": "markdown",
   "id": "45f6b8aa-e790-4a72-9d94-bca2a268451b",
   "metadata": {},
   "source": [
    "## Proposition types over time"
   ]
  },
  {
   "cell_type": "code",
   "execution_count": null,
   "id": "583cd89b-de73-4ae9-b37f-9062ecd8cf55",
   "metadata": {},
   "outputs": [],
   "source": []
  },
  {
   "cell_type": "code",
   "execution_count": null,
   "id": "42a407aa-9980-413a-a4db-e160ac17a9c0",
   "metadata": {},
   "outputs": [],
   "source": []
  },
  {
   "cell_type": "code",
   "execution_count": null,
   "id": "613d3851-9190-4bcc-ba3e-325cc984ae5a",
   "metadata": {},
   "outputs": [],
   "source": []
  },
  {
   "cell_type": "code",
   "execution_count": null,
   "id": "5071913f-c2ed-47a7-acd9-24a3e2e66173",
   "metadata": {},
   "outputs": [],
   "source": []
  },
  {
   "cell_type": "code",
   "execution_count": null,
   "id": "84321d61-66c2-4ea6-bb49-5c951ed727d9",
   "metadata": {},
   "outputs": [],
   "source": []
  },
  {
   "cell_type": "code",
   "execution_count": null,
   "id": "581e99f2-3b22-4953-9c87-1befbb4dbc98",
   "metadata": {},
   "outputs": [],
   "source": []
  },
  {
   "cell_type": "code",
   "execution_count": null,
   "id": "4e55fed1-8bb1-4a3e-956d-845b7263289a",
   "metadata": {},
   "outputs": [],
   "source": []
  }
 ],
 "metadata": {
  "kernelspec": {
   "display_name": "Python 3 (ipykernel)",
   "language": "python",
   "name": "python3"
  },
  "language_info": {
   "codemirror_mode": {
    "name": "ipython",
    "version": 3
   },
   "file_extension": ".py",
   "mimetype": "text/x-python",
   "name": "python",
   "nbconvert_exporter": "python",
   "pygments_lexer": "ipython3",
   "version": "3.11.11"
  }
 },
 "nbformat": 4,
 "nbformat_minor": 5
}
