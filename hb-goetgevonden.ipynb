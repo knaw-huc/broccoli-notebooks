{
 "cells": [
  {
   "cell_type": "markdown",
   "metadata": {},
   "source": [
    "This notebook is exploring the use of goetgevonden APIs. Starts with trivial scenarios (simple query with basic results) and then gradually dives into use cases and research questions as collected by the Goetgevonden team\n"
   ]
  },
  {
   "cell_type": "markdown",
   "metadata": {},
   "source": [
    "Step 1: connect to the goetgevonden broccoli service"
   ]
  },
  {
   "cell_type": "code",
   "execution_count": 1,
   "metadata": {},
   "outputs": [
    {
     "data": {
      "text/plain": [
       "{'appName': 'Broccoli',\n",
       " 'version': '0.40.2',\n",
       " 'startedAt': '2024-12-04T09:20:25.540539035Z',\n",
       " 'baseURI': 'https://api.goetgevonden.nl',\n",
       " 'hucLogLevel': 'DEBUG'}"
      ]
     },
     "execution_count": 1,
     "metadata": {},
     "output_type": "execute_result"
    }
   ],
   "source": [
    "import requests as rq\n",
    "\n",
    "broccoli_endpoint = 'https://api.goetgevonden.nl/about'\n",
    "params = {'accept': 'application/json'}\n",
    "\n",
    "result = rq.get(broccoli_endpoint, params = params)\n",
    "\n",
    "result.json()"
   ]
  },
  {
   "cell_type": "markdown",
   "metadata": {},
   "source": [
    "Step 1b: retrieve some information on the projects and, if possible, about the indexName that is to be used in step 2"
   ]
  },
  {
   "cell_type": "code",
   "execution_count": 2,
   "metadata": {},
   "outputs": [
    {
     "data": {
      "text/plain": [
       "['DateOccurrence',\n",
       " 'Entity',\n",
       " 'Page',\n",
       " 'Paragraph',\n",
       " 'Resolution',\n",
       " 'Session',\n",
       " 'Volume']"
      ]
     },
     "execution_count": 2,
     "metadata": {},
     "output_type": "execute_result"
    }
   ],
   "source": [
    "query = 'https://api.goetgevonden.nl/projects/republic'\n",
    "result = rq.get(query, params = params)\n",
    "\n",
    "result.json()"
   ]
  },
  {
   "cell_type": "code",
   "execution_count": 3,
   "metadata": {},
   "outputs": [
    {
     "data": {
      "text/plain": [
       "{'republic-2024.11.18': {'textType': 'keyword',\n",
       "  'resolutionType': 'keyword',\n",
       "  'propositionType': 'keyword',\n",
       "  'delegateName': 'keyword',\n",
       "  'personName': 'keyword',\n",
       "  'roleName': 'keyword',\n",
       "  'roleCategories': 'keyword',\n",
       "  'locationName': 'keyword',\n",
       "  'locationCategories': 'keyword',\n",
       "  'organisationName': 'keyword',\n",
       "  'organisationCategories': 'keyword',\n",
       "  'commissionName': 'keyword',\n",
       "  'commissionCategories': 'keyword',\n",
       "  'sessionWeekday': 'keyword',\n",
       "  'delegateId': 'keyword',\n",
       "  'personId': 'keyword',\n",
       "  'roleId': 'keyword',\n",
       "  'locationId': 'keyword',\n",
       "  'organisationId': 'keyword',\n",
       "  'commissionId': 'keyword',\n",
       "  'bodyType': 'keyword',\n",
       "  'sessionDate': 'date',\n",
       "  'sessionDay': 'byte',\n",
       "  'sessionMonth': 'byte',\n",
       "  'sessionYear': 'short'},\n",
       " 'republic-2024.11.30': {'textType': 'keyword',\n",
       "  'resolutionType': 'keyword',\n",
       "  'propositionType': 'keyword',\n",
       "  'delegateName': 'keyword',\n",
       "  'personName': 'keyword',\n",
       "  'roleName': 'keyword',\n",
       "  'roleCategories': 'keyword',\n",
       "  'locationName': 'keyword',\n",
       "  'locationCategories': 'keyword',\n",
       "  'organisationName': 'keyword',\n",
       "  'organisationCategories': 'keyword',\n",
       "  'commissionName': 'keyword',\n",
       "  'commissionCategories': 'keyword',\n",
       "  'sessionWeekday': 'keyword',\n",
       "  'delegateId': 'keyword',\n",
       "  'personId': 'keyword',\n",
       "  'roleId': 'keyword',\n",
       "  'locationId': 'keyword',\n",
       "  'organisationId': 'keyword',\n",
       "  'commissionId': 'keyword',\n",
       "  'bodyType': 'keyword',\n",
       "  'sessionDate': 'date',\n",
       "  'sessionDay': 'byte',\n",
       "  'sessionMonth': 'byte',\n",
       "  'sessionYear': 'short'}}"
      ]
     },
     "execution_count": 3,
     "metadata": {},
     "output_type": "execute_result"
    }
   ],
   "source": [
    "query = 'https://api.goetgevonden.nl/brinta/republic/indices'\n",
    "result = rq.get(query, params = params)\n",
    "\n",
    "result.json()"
   ]
  },
  {
   "cell_type": "markdown",
   "metadata": {},
   "source": [
    "Step 2: perform a basic search query"
   ]
  },
  {
   "cell_type": "code",
   "execution_count": 4,
   "metadata": {},
   "outputs": [
    {
     "data": {
      "text/plain": [
       "{'total': {'value': 2780, 'relation': 'eq'},\n",
       " 'results': [{'_id': 'urn:republic:inv-4845-date-1644-01-16-session-427-resolution-1',\n",
       "   '_hits': {'text': ['Graeff <em>Maurits</em>',\n",
       "     'Graeff <em>Maurits</em>',\n",
       "     'geschreven in <em>Maurits</em>']},\n",
       "   'textType': 'handwritten',\n",
       "   'resolutionType': 'speciaal',\n",
       "   'propositionType': 'onbekend',\n",
       "   'sessionWeekday': 'zaterdag',\n",
       "   'bodyType': 'Resolution',\n",
       "   'sessionDate': '1644-01-16',\n",
       "   'sessionDay': 16,\n",
       "   'sessionMonth': 1,\n",
       "   'sessionYear': 1644},\n",
       "  {'_id': 'urn:republic:inv-3195-date-1636-03-24-session-47-resolution-7',\n",
       "   '_hits': {'text': ['Graeff <em>Maurits</em>',\n",
       "     '<em>Maurits</em> van',\n",
       "     'Graeff <em>Maurits</em>']},\n",
       "   'textType': 'handwritten',\n",
       "   'resolutionType': 'ordinaris',\n",
       "   'propositionType': 'onbekend',\n",
       "   'sessionWeekday': 'maandag',\n",
       "   'bodyType': 'Resolution',\n",
       "   'sessionDate': '1636-03-24',\n",
       "   'sessionDay': 24,\n",
       "   'sessionMonth': 3,\n",
       "   'sessionYear': 1636}],\n",
       " 'aggs': {}}"
      ]
     },
     "execution_count": 4,
     "metadata": {},
     "output_type": "execute_result"
    }
   ],
   "source": [
    "query = 'https://api.goetgevonden.nl/projects/republic/search?indexName=republic-2024.11.30&fragmentSize=10&from=0&size=2&sortBy=_score&sortOrder=desc'\n",
    "\n",
    "body = {\n",
    "    'text': 'maurits',\n",
    "    'terms': {},\n",
    "    'date': {\n",
    "        'name': 'sessionDate',\n",
    "        'from': '1576-08-04',\n",
    "        'to': '1796-03-01'\n",
    "    }\n",
    "}\n",
    "\n",
    "result = rq.post(url=query, json=body)\n",
    "result.json()"
   ]
  },
  {
   "cell_type": "markdown",
   "metadata": {},
   "source": [
    "Step 3: first simple scenario where I do something with search results and/or facet counts"
   ]
  },
  {
   "cell_type": "markdown",
   "metadata": {},
   "source": [
    "Take one of Marijns first use cases: I want to query the API to retrieve all metadata, entities and texts for resolutions with proposition type ‘request’ and session date > 1700-01-01, in three separate queries (one for metadata, one for entities, one for texts). I want to gather data for 18th century resolutions around petitions and run text analysis on the resolutions, grouping resolutions along various metadata dimensions (one dimension is resolutions per month, another is resolutions by province of president)"
   ]
  },
  {
   "cell_type": "markdown",
   "metadata": {},
   "source": [
    "First step: query with date > 1700-01-01 and propositionType == rekest, return metadata triplets _id, sessionMonth, president. Find presidents' province somewhere. Result table with 4 columns"
   ]
  },
  {
   "cell_type": "code",
   "execution_count": 5,
   "metadata": {},
   "outputs": [
    {
     "data": {
      "text/plain": [
       "{'total': {'value': 76523, 'relation': 'eq'},\n",
       " 'results': [{'_id': 'urn:republic:inv-3760-date-1705-05-18-session-131-resolution-29',\n",
       "   'textType': 'printed',\n",
       "   'resolutionType': 'ordinaris',\n",
       "   'propositionType': 'rekest',\n",
       "   'sessionWeekday': 'maandag',\n",
       "   'bodyType': 'Resolution',\n",
       "   'sessionDate': '1705-05-18',\n",
       "   'sessionDay': 18,\n",
       "   'sessionMonth': 5,\n",
       "   'sessionYear': 1705},\n",
       "  {'_id': 'urn:republic:inv-3760-date-1705-05-18-session-131-resolution-30',\n",
       "   'textType': 'printed',\n",
       "   'resolutionType': 'ordinaris',\n",
       "   'propositionType': 'rekest',\n",
       "   'sessionWeekday': 'maandag',\n",
       "   'bodyType': 'Resolution',\n",
       "   'sessionDate': '1705-05-18',\n",
       "   'sessionDay': 18,\n",
       "   'sessionMonth': 5,\n",
       "   'sessionYear': 1705}],\n",
       " 'aggs': {'propositionType': {'rekest': 76523,\n",
       "   'missive': 157761,\n",
       "   'onbekend': 83064,\n",
       "   'rapport': 13089,\n",
       "   'memorie': 9311,\n",
       "   'voordracht': 6827,\n",
       "   'conclusie': 1784,\n",
       "   'declaratie': 1369,\n",
       "   'advies': 1055,\n",
       "   'rekening': 771}}}"
      ]
     },
     "execution_count": 5,
     "metadata": {},
     "output_type": "execute_result"
    }
   ],
   "source": [
    "body = {\n",
    "    'terms': {'propositionType':['rekest']},\n",
    "    'date': {\n",
    "        'name': 'sessionDate',\n",
    "        'from': '1700-01-01',\n",
    "        'to': '1796-03-01'\n",
    "    },\n",
    "    'aggs': {\n",
    "        'propositionType': {\n",
    "            'order': 'countDesc',\n",
    "            'size': 10\n",
    "        }\n",
    "    }\n",
    "}\n",
    "\n",
    "result = rq.post(url=query, json=body)\n",
    "result.json()"
   ]
  },
  {
   "cell_type": "markdown",
   "metadata": {},
   "source": [
    "Now without aggs. Keep the above just for reference."
   ]
  },
  {
   "cell_type": "code",
   "execution_count": 6,
   "metadata": {},
   "outputs": [
    {
     "data": {
      "text/plain": [
       "{'total': {'value': 76523, 'relation': 'eq'},\n",
       " 'results': [{'_id': 'urn:republic:inv-3760-date-1705-05-18-session-131-resolution-29',\n",
       "   'textType': 'printed',\n",
       "   'resolutionType': 'ordinaris',\n",
       "   'propositionType': 'rekest',\n",
       "   'sessionWeekday': 'maandag',\n",
       "   'bodyType': 'Resolution',\n",
       "   'sessionDate': '1705-05-18',\n",
       "   'sessionDay': 18,\n",
       "   'sessionMonth': 5,\n",
       "   'sessionYear': 1705},\n",
       "  {'_id': 'urn:republic:inv-3760-date-1705-05-18-session-131-resolution-30',\n",
       "   'textType': 'printed',\n",
       "   'resolutionType': 'ordinaris',\n",
       "   'propositionType': 'rekest',\n",
       "   'sessionWeekday': 'maandag',\n",
       "   'bodyType': 'Resolution',\n",
       "   'sessionDate': '1705-05-18',\n",
       "   'sessionDay': 18,\n",
       "   'sessionMonth': 5,\n",
       "   'sessionYear': 1705}],\n",
       " 'aggs': {}}"
      ]
     },
     "execution_count": 6,
     "metadata": {},
     "output_type": "execute_result"
    }
   ],
   "source": [
    "query = 'https://api.goetgevonden.nl/projects/republic/search?indexName=republic-2024.11.30&fragmentSize=10&from=0&size=2&sortBy=_score&sortOrder=desc'\n",
    "body = {\n",
    "    'terms': {'propositionType':['rekest']},\n",
    "    'date': {\n",
    "        'name': 'sessionDate',\n",
    "        'from': '1700-01-01',\n",
    "        'to': '1796-03-01'\n",
    "    }\n",
    "}\n",
    "\n",
    "result = rq.post(url=query, json=body)\n",
    "result.json()"
   ]
  },
  {
   "cell_type": "markdown",
   "metadata": {},
   "source": [
    "size=100000 appears to pass a built in limit, 10000 works. Find a strategy to retrieve and process all 76523 results."
   ]
  },
  {
   "cell_type": "markdown",
   "metadata": {},
   "source": [
    "Try pagination with, say, pages of 1 thousand results. Build in a check for reaching the last result."
   ]
  },
  {
   "cell_type": "code",
   "execution_count": 7,
   "metadata": {},
   "outputs": [
    {
     "name": "stdout",
     "output_type": "stream",
     "text": [
      "{'total': {'value': 76523, 'relation': 'eq'}, 'results': [{'_id': 'urn:republic:inv-3760-date-1705-05-18-session-131-resolution-29', 'textType': 'printed', 'resolutionType': 'ordinaris', 'propositionType': 'rekest', 'sessionWeekday': 'maandag', 'bodyType': 'Resolution', 'sessionDate': '1705-05-18', 'sessionDay': 18, 'sessionMonth': 5, 'sessionYear': 1705}, {'_id': 'urn:republic:inv-3760-date-1705-05-18-session-131-resolution-30', 'textType': 'printed', 'resolutionType': 'ordinaris', 'propositionType': 'rekest', 'sessionWeekday': 'maandag', 'bodyType': 'Resolution', 'sessionDate': '1705-05-18', 'sessionDay': 18, 'sessionMonth': 5, 'sessionYear': 1705}, {'_id': 'urn:republic:inv-3760-date-1705-05-18-session-131-resolution-31', 'textType': 'printed', 'resolutionType': 'ordinaris', 'propositionType': 'rekest', 'sessionWeekday': 'maandag', 'bodyType': 'Resolution', 'sessionDate': '1705-05-18', 'sessionDay': 18, 'sessionMonth': 5, 'sessionYear': 1705}, {'_id': 'urn:republic:inv-3760-date-1705-05-18-session-131-resolution-32', 'textType': 'printed', 'resolutionType': 'ordinaris', 'propositionType': 'rekest', 'sessionWeekday': 'maandag', 'bodyType': 'Resolution', 'sessionDate': '1705-05-18', 'sessionDay': 18, 'sessionMonth': 5, 'sessionYear': 1705}, {'_id': 'urn:republic:inv-3760-date-1705-05-18-session-131-resolution-33', 'textType': 'printed', 'resolutionType': 'ordinaris', 'propositionType': 'rekest', 'sessionWeekday': 'maandag', 'bodyType': 'Resolution', 'sessionDate': '1705-05-18', 'sessionDay': 18, 'sessionMonth': 5, 'sessionYear': 1705}, {'_id': 'urn:republic:inv-3760-date-1705-05-18-session-131-resolution-34', 'textType': 'printed', 'resolutionType': 'ordinaris', 'propositionType': 'rekest', 'sessionWeekday': 'maandag', 'bodyType': 'Resolution', 'sessionDate': '1705-05-18', 'sessionDay': 18, 'sessionMonth': 5, 'sessionYear': 1705}, {'_id': 'urn:republic:inv-3760-date-1705-05-18-session-131-resolution-35', 'textType': 'printed', 'resolutionType': 'ordinaris', 'propositionType': 'rekest', 'sessionWeekday': 'maandag', 'bodyType': 'Resolution', 'sessionDate': '1705-05-18', 'sessionDay': 18, 'sessionMonth': 5, 'sessionYear': 1705}, {'_id': 'urn:republic:inv-3760-date-1705-05-18-session-131-resolution-36', 'textType': 'printed', 'resolutionType': 'ordinaris', 'propositionType': 'rekest', 'sessionWeekday': 'maandag', 'bodyType': 'Resolution', 'sessionDate': '1705-05-18', 'sessionDay': 18, 'sessionMonth': 5, 'sessionYear': 1705}, {'_id': 'urn:republic:inv-3760-date-1705-05-18-session-131-resolution-37', 'textType': 'printed', 'resolutionType': 'ordinaris', 'propositionType': 'rekest', 'sessionWeekday': 'maandag', 'bodyType': 'Resolution', 'sessionDate': '1705-05-18', 'sessionDay': 18, 'sessionMonth': 5, 'sessionYear': 1705}, {'_id': 'urn:republic:inv-3760-date-1705-05-18-session-131-resolution-38', 'textType': 'printed', 'resolutionType': 'ordinaris', 'propositionType': 'rekest', 'sessionWeekday': 'maandag', 'bodyType': 'Resolution', 'sessionDate': '1705-05-18', 'sessionDay': 18, 'sessionMonth': 5, 'sessionYear': 1705}, {'_id': 'urn:republic:inv-3760-date-1705-05-18-session-131-resolution-39', 'textType': 'printed', 'resolutionType': 'ordinaris', 'propositionType': 'rekest', 'sessionWeekday': 'maandag', 'bodyType': 'Resolution', 'sessionDate': '1705-05-18', 'sessionDay': 18, 'sessionMonth': 5, 'sessionYear': 1705}, {'_id': 'urn:republic:inv-3760-date-1705-05-18-session-131-resolution-44', 'textType': 'printed', 'resolutionType': 'ordinaris', 'propositionType': 'rekest', 'sessionWeekday': 'maandag', 'bodyType': 'Resolution', 'sessionDate': '1705-05-18', 'sessionDay': 18, 'sessionMonth': 5, 'sessionYear': 1705}, {'_id': 'urn:republic:inv-3760-date-1705-05-18-session-131-resolution-48', 'textType': 'printed', 'resolutionType': 'ordinaris', 'propositionType': 'rekest', 'sessionWeekday': 'maandag', 'bodyType': 'Resolution', 'sessionDate': '1705-05-18', 'sessionDay': 18, 'sessionMonth': 5, 'sessionYear': 1705}, {'_id': 'urn:republic:inv-3760-date-1705-05-18-session-131-resolution-49', 'textType': 'printed', 'resolutionType': 'ordinaris', 'propositionType': 'rekest', 'sessionWeekday': 'maandag', 'bodyType': 'Resolution', 'sessionDate': '1705-05-18', 'sessionDay': 18, 'sessionMonth': 5, 'sessionYear': 1705}, {'_id': 'urn:republic:inv-3760-date-1705-05-18-session-131-resolution-50', 'textType': 'printed', 'resolutionType': 'ordinaris', 'propositionType': 'rekest', 'sessionWeekday': 'maandag', 'bodyType': 'Resolution', 'sessionDate': '1705-05-18', 'sessionDay': 18, 'sessionMonth': 5, 'sessionYear': 1705}, {'_id': 'urn:republic:inv-3760-date-1705-05-18-session-131-resolution-58', 'textType': 'printed', 'resolutionType': 'ordinaris', 'propositionType': 'rekest', 'sessionWeekday': 'maandag', 'bodyType': 'Resolution', 'sessionDate': '1705-05-18', 'sessionDay': 18, 'sessionMonth': 5, 'sessionYear': 1705}, {'_id': 'urn:republic:inv-3760-date-1705-05-19-session-132-resolution-5', 'textType': 'printed', 'resolutionType': 'ordinaris', 'propositionType': 'rekest', 'sessionWeekday': 'dinsdag', 'bodyType': 'Resolution', 'sessionDate': '1705-05-19', 'sessionDay': 19, 'sessionMonth': 5, 'sessionYear': 1705}, {'_id': 'urn:republic:inv-3760-date-1705-05-19-session-132-resolution-6', 'textType': 'printed', 'resolutionType': 'ordinaris', 'propositionType': 'rekest', 'sessionWeekday': 'dinsdag', 'bodyType': 'Resolution', 'sessionDate': '1705-05-19', 'sessionDay': 19, 'sessionMonth': 5, 'sessionYear': 1705}, {'_id': 'urn:republic:inv-3760-date-1705-05-19-session-132-resolution-7', 'textType': 'printed', 'resolutionType': 'ordinaris', 'propositionType': 'rekest', 'sessionWeekday': 'dinsdag', 'bodyType': 'Resolution', 'sessionDate': '1705-05-19', 'sessionDay': 19, 'sessionMonth': 5, 'sessionYear': 1705}, {'_id': 'urn:republic:inv-3760-date-1705-05-19-session-132-resolution-8', 'textType': 'printed', 'resolutionType': 'ordinaris', 'propositionType': 'rekest', 'sessionWeekday': 'dinsdag', 'bodyType': 'Resolution', 'sessionDate': '1705-05-19', 'sessionDay': 19, 'sessionMonth': 5, 'sessionYear': 1705}, {'_id': 'urn:republic:inv-3760-date-1705-05-19-session-132-resolution-9', 'textType': 'printed', 'resolutionType': 'ordinaris', 'propositionType': 'rekest', 'sessionWeekday': 'dinsdag', 'bodyType': 'Resolution', 'sessionDate': '1705-05-19', 'sessionDay': 19, 'sessionMonth': 5, 'sessionYear': 1705}, {'_id': 'urn:republic:inv-3760-date-1705-05-19-session-132-resolution-10', 'textType': 'printed', 'resolutionType': 'ordinaris', 'propositionType': 'rekest', 'sessionWeekday': 'dinsdag', 'bodyType': 'Resolution', 'sessionDate': '1705-05-19', 'sessionDay': 19, 'sessionMonth': 5, 'sessionYear': 1705}, {'_id': 'urn:republic:inv-3760-date-1705-05-19-session-132-resolution-11', 'textType': 'printed', 'resolutionType': 'ordinaris', 'propositionType': 'rekest', 'sessionWeekday': 'dinsdag', 'bodyType': 'Resolution', 'sessionDate': '1705-05-19', 'sessionDay': 19, 'sessionMonth': 5, 'sessionYear': 1705}, {'_id': 'urn:republic:inv-3760-date-1705-05-19-session-132-resolution-12', 'textType': 'printed', 'resolutionType': 'ordinaris', 'propositionType': 'rekest', 'sessionWeekday': 'dinsdag', 'bodyType': 'Resolution', 'sessionDate': '1705-05-19', 'sessionDay': 19, 'sessionMonth': 5, 'sessionYear': 1705}, {'_id': 'urn:republic:inv-3760-date-1705-05-19-session-132-resolution-13', 'textType': 'printed', 'resolutionType': 'ordinaris', 'propositionType': 'rekest', 'sessionWeekday': 'dinsdag', 'bodyType': 'Resolution', 'sessionDate': '1705-05-19', 'sessionDay': 19, 'sessionMonth': 5, 'sessionYear': 1705}, {'_id': 'urn:republic:inv-3760-date-1705-05-19-session-132-resolution-14', 'textType': 'printed', 'resolutionType': 'ordinaris', 'propositionType': 'rekest', 'sessionWeekday': 'dinsdag', 'bodyType': 'Resolution', 'sessionDate': '1705-05-19', 'sessionDay': 19, 'sessionMonth': 5, 'sessionYear': 1705}, {'_id': 'urn:republic:inv-3760-date-1705-05-19-session-132-resolution-18', 'textType': 'printed', 'resolutionType': 'ordinaris', 'propositionType': 'rekest', 'sessionWeekday': 'dinsdag', 'bodyType': 'Resolution', 'sessionDate': '1705-05-19', 'sessionDay': 19, 'sessionMonth': 5, 'sessionYear': 1705}, {'_id': 'urn:republic:inv-3760-date-1705-05-19-session-132-resolution-19', 'textType': 'printed', 'resolutionType': 'ordinaris', 'propositionType': 'rekest', 'sessionWeekday': 'dinsdag', 'bodyType': 'Resolution', 'sessionDate': '1705-05-19', 'sessionDay': 19, 'sessionMonth': 5, 'sessionYear': 1705}, {'_id': 'urn:republic:inv-3760-date-1705-05-19-session-132-resolution-20', 'textType': 'printed', 'resolutionType': 'ordinaris', 'propositionType': 'rekest', 'sessionWeekday': 'dinsdag', 'bodyType': 'Resolution', 'sessionDate': '1705-05-19', 'sessionDay': 19, 'sessionMonth': 5, 'sessionYear': 1705}, {'_id': 'urn:republic:inv-3760-date-1705-05-19-session-132-resolution-21', 'textType': 'printed', 'resolutionType': 'ordinaris', 'propositionType': 'rekest', 'sessionWeekday': 'dinsdag', 'bodyType': 'Resolution', 'sessionDate': '1705-05-19', 'sessionDay': 19, 'sessionMonth': 5, 'sessionYear': 1705}, {'_id': 'urn:republic:inv-3760-date-1705-05-19-session-132-resolution-22', 'textType': 'printed', 'resolutionType': 'ordinaris', 'propositionType': 'rekest', 'sessionWeekday': 'dinsdag', 'bodyType': 'Resolution', 'sessionDate': '1705-05-19', 'sessionDay': 19, 'sessionMonth': 5, 'sessionYear': 1705}, {'_id': 'urn:republic:inv-3760-date-1705-05-19-session-132-resolution-23', 'textType': 'printed', 'resolutionType': 'ordinaris', 'propositionType': 'rekest', 'sessionWeekday': 'dinsdag', 'bodyType': 'Resolution', 'sessionDate': '1705-05-19', 'sessionDay': 19, 'sessionMonth': 5, 'sessionYear': 1705}, {'_id': 'urn:republic:inv-3760-date-1705-05-19-session-132-resolution-24', 'textType': 'printed', 'resolutionType': 'ordinaris', 'propositionType': 'rekest', 'sessionWeekday': 'dinsdag', 'bodyType': 'Resolution', 'sessionDate': '1705-05-19', 'sessionDay': 19, 'sessionMonth': 5, 'sessionYear': 1705}, {'_id': 'urn:republic:inv-3760-date-1705-05-20-session-133-resolution-3', 'textType': 'printed', 'resolutionType': 'ordinaris', 'propositionType': 'rekest', 'sessionWeekday': 'woensdag', 'bodyType': 'Resolution', 'sessionDate': '1705-05-20', 'sessionDay': 20, 'sessionMonth': 5, 'sessionYear': 1705}, {'_id': 'urn:republic:inv-3760-date-1705-05-20-session-133-resolution-4', 'textType': 'printed', 'resolutionType': 'ordinaris', 'propositionType': 'rekest', 'sessionWeekday': 'woensdag', 'bodyType': 'Resolution', 'sessionDate': '1705-05-20', 'sessionDay': 20, 'sessionMonth': 5, 'sessionYear': 1705}, {'_id': 'urn:republic:inv-3760-date-1705-05-20-session-133-resolution-5', 'textType': 'printed', 'resolutionType': 'ordinaris', 'propositionType': 'rekest', 'sessionWeekday': 'woensdag', 'bodyType': 'Resolution', 'sessionDate': '1705-05-20', 'sessionDay': 20, 'sessionMonth': 5, 'sessionYear': 1705}, {'_id': 'urn:republic:inv-3760-date-1705-05-20-session-133-resolution-6', 'textType': 'printed', 'resolutionType': 'ordinaris', 'propositionType': 'rekest', 'sessionWeekday': 'woensdag', 'bodyType': 'Resolution', 'sessionDate': '1705-05-20', 'sessionDay': 20, 'sessionMonth': 5, 'sessionYear': 1705}, {'_id': 'urn:republic:inv-3760-date-1705-05-20-session-133-resolution-7', 'textType': 'printed', 'resolutionType': 'ordinaris', 'propositionType': 'rekest', 'sessionWeekday': 'woensdag', 'bodyType': 'Resolution', 'sessionDate': '1705-05-20', 'sessionDay': 20, 'sessionMonth': 5, 'sessionYear': 1705}, {'_id': 'urn:republic:inv-3760-date-1705-05-20-session-133-resolution-12', 'textType': 'printed', 'resolutionType': 'ordinaris', 'propositionType': 'rekest', 'sessionWeekday': 'woensdag', 'bodyType': 'Resolution', 'sessionDate': '1705-05-20', 'sessionDay': 20, 'sessionMonth': 5, 'sessionYear': 1705}, {'_id': 'urn:republic:inv-3760-date-1705-05-20-session-133-resolution-13', 'textType': 'printed', 'resolutionType': 'ordinaris', 'propositionType': 'rekest', 'sessionWeekday': 'woensdag', 'bodyType': 'Resolution', 'sessionDate': '1705-05-20', 'sessionDay': 20, 'sessionMonth': 5, 'sessionYear': 1705}, {'_id': 'urn:republic:inv-3760-date-1705-05-20-session-133-resolution-14', 'textType': 'printed', 'resolutionType': 'ordinaris', 'propositionType': 'rekest', 'sessionWeekday': 'woensdag', 'bodyType': 'Resolution', 'sessionDate': '1705-05-20', 'sessionDay': 20, 'sessionMonth': 5, 'sessionYear': 1705}, {'_id': 'urn:republic:inv-3760-date-1705-05-20-session-133-resolution-15', 'textType': 'printed', 'resolutionType': 'ordinaris', 'propositionType': 'rekest', 'sessionWeekday': 'woensdag', 'bodyType': 'Resolution', 'sessionDate': '1705-05-20', 'sessionDay': 20, 'sessionMonth': 5, 'sessionYear': 1705}, {'_id': 'urn:republic:inv-3760-date-1705-05-20-session-133-resolution-17', 'textType': 'printed', 'resolutionType': 'ordinaris', 'propositionType': 'rekest', 'sessionWeekday': 'woensdag', 'bodyType': 'Resolution', 'sessionDate': '1705-05-20', 'sessionDay': 20, 'sessionMonth': 5, 'sessionYear': 1705}, {'_id': 'urn:republic:inv-3760-date-1705-05-20-session-133-resolution-18', 'textType': 'printed', 'resolutionType': 'ordinaris', 'propositionType': 'rekest', 'sessionWeekday': 'woensdag', 'bodyType': 'Resolution', 'sessionDate': '1705-05-20', 'sessionDay': 20, 'sessionMonth': 5, 'sessionYear': 1705}, {'_id': 'urn:republic:inv-3760-date-1705-05-20-session-133-resolution-19', 'textType': 'printed', 'resolutionType': 'ordinaris', 'propositionType': 'rekest', 'sessionWeekday': 'woensdag', 'bodyType': 'Resolution', 'sessionDate': '1705-05-20', 'sessionDay': 20, 'sessionMonth': 5, 'sessionYear': 1705}, {'_id': 'urn:republic:inv-3760-date-1705-05-22-session-135-resolution-10', 'textType': 'printed', 'resolutionType': 'ordinaris', 'propositionType': 'rekest', 'sessionWeekday': 'vrijdag', 'bodyType': 'Resolution', 'sessionDate': '1705-05-22', 'sessionDay': 22, 'sessionMonth': 5, 'sessionYear': 1705}, {'_id': 'urn:republic:inv-3760-date-1705-05-22-session-135-resolution-11', 'textType': 'printed', 'resolutionType': 'ordinaris', 'propositionType': 'rekest', 'sessionWeekday': 'vrijdag', 'bodyType': 'Resolution', 'sessionDate': '1705-05-22', 'sessionDay': 22, 'sessionMonth': 5, 'sessionYear': 1705}, {'_id': 'urn:republic:inv-3760-date-1705-05-22-session-135-resolution-12', 'textType': 'printed', 'resolutionType': 'ordinaris', 'propositionType': 'rekest', 'sessionWeekday': 'vrijdag', 'bodyType': 'Resolution', 'sessionDate': '1705-05-22', 'sessionDay': 22, 'sessionMonth': 5, 'sessionYear': 1705}, {'_id': 'urn:republic:inv-3760-date-1705-05-22-session-135-resolution-13', 'textType': 'printed', 'resolutionType': 'ordinaris', 'propositionType': 'rekest', 'sessionWeekday': 'vrijdag', 'bodyType': 'Resolution', 'sessionDate': '1705-05-22', 'sessionDay': 22, 'sessionMonth': 5, 'sessionYear': 1705}, {'_id': 'urn:republic:inv-3760-date-1705-05-22-session-135-resolution-14', 'textType': 'printed', 'resolutionType': 'ordinaris', 'propositionType': 'rekest', 'sessionWeekday': 'vrijdag', 'bodyType': 'Resolution', 'sessionDate': '1705-05-22', 'sessionDay': 22, 'sessionMonth': 5, 'sessionYear': 1705}, {'_id': 'urn:republic:inv-3760-date-1705-05-22-session-135-resolution-20', 'textType': 'printed', 'resolutionType': 'ordinaris', 'propositionType': 'rekest', 'sessionWeekday': 'vrijdag', 'bodyType': 'Resolution', 'sessionDate': '1705-05-22', 'sessionDay': 22, 'sessionMonth': 5, 'sessionYear': 1705}, {'_id': 'urn:republic:inv-3760-date-1705-05-22-session-135-resolution-34', 'textType': 'printed', 'resolutionType': 'ordinaris', 'propositionType': 'rekest', 'sessionWeekday': 'vrijdag', 'bodyType': 'Resolution', 'sessionDate': '1705-05-22', 'sessionDay': 22, 'sessionMonth': 5, 'sessionYear': 1705}, {'_id': 'urn:republic:inv-3760-date-1705-05-22-session-135-resolution-35', 'textType': 'printed', 'resolutionType': 'ordinaris', 'propositionType': 'rekest', 'sessionWeekday': 'vrijdag', 'bodyType': 'Resolution', 'sessionDate': '1705-05-22', 'sessionDay': 22, 'sessionMonth': 5, 'sessionYear': 1705}, {'_id': 'urn:republic:inv-3760-date-1705-05-22-session-135-resolution-36', 'textType': 'printed', 'resolutionType': 'ordinaris', 'propositionType': 'rekest', 'sessionWeekday': 'vrijdag', 'bodyType': 'Resolution', 'sessionDate': '1705-05-22', 'sessionDay': 22, 'sessionMonth': 5, 'sessionYear': 1705}, {'_id': 'urn:republic:inv-3760-date-1705-05-23-session-136-resolution-13', 'textType': 'printed', 'resolutionType': 'ordinaris', 'propositionType': 'rekest', 'sessionWeekday': 'zaterdag', 'bodyType': 'Resolution', 'sessionDate': '1705-05-23', 'sessionDay': 23, 'sessionMonth': 5, 'sessionYear': 1705}, {'_id': 'urn:republic:inv-3760-date-1705-05-23-session-136-resolution-15', 'textType': 'printed', 'resolutionType': 'ordinaris', 'propositionType': 'rekest', 'sessionWeekday': 'zaterdag', 'bodyType': 'Resolution', 'sessionDate': '1705-05-23', 'sessionDay': 23, 'sessionMonth': 5, 'sessionYear': 1705}, {'_id': 'urn:republic:inv-3760-date-1705-05-23-session-136-resolution-16', 'textType': 'printed', 'resolutionType': 'ordinaris', 'propositionType': 'rekest', 'sessionWeekday': 'zaterdag', 'bodyType': 'Resolution', 'sessionDate': '1705-05-23', 'sessionDay': 23, 'sessionMonth': 5, 'sessionYear': 1705}, {'_id': 'urn:republic:inv-3760-date-1705-05-23-session-136-resolution-17', 'textType': 'printed', 'resolutionType': 'ordinaris', 'propositionType': 'rekest', 'sessionWeekday': 'zaterdag', 'bodyType': 'Resolution', 'sessionDate': '1705-05-23', 'sessionDay': 23, 'sessionMonth': 5, 'sessionYear': 1705}, {'_id': 'urn:republic:inv-3760-date-1705-05-23-session-136-resolution-18', 'textType': 'printed', 'resolutionType': 'ordinaris', 'propositionType': 'rekest', 'sessionWeekday': 'zaterdag', 'bodyType': 'Resolution', 'sessionDate': '1705-05-23', 'sessionDay': 23, 'sessionMonth': 5, 'sessionYear': 1705}, {'_id': 'urn:republic:inv-3760-date-1705-05-23-session-136-resolution-19', 'textType': 'printed', 'resolutionType': 'ordinaris', 'propositionType': 'rekest', 'sessionWeekday': 'zaterdag', 'bodyType': 'Resolution', 'sessionDate': '1705-05-23', 'sessionDay': 23, 'sessionMonth': 5, 'sessionYear': 1705}, {'_id': 'urn:republic:inv-3760-date-1705-05-23-session-136-resolution-20', 'textType': 'printed', 'resolutionType': 'ordinaris', 'propositionType': 'rekest', 'sessionWeekday': 'zaterdag', 'bodyType': 'Resolution', 'sessionDate': '1705-05-23', 'sessionDay': 23, 'sessionMonth': 5, 'sessionYear': 1705}, {'_id': 'urn:republic:inv-3760-date-1705-05-23-session-136-resolution-21', 'textType': 'printed', 'resolutionType': 'ordinaris', 'propositionType': 'rekest', 'sessionWeekday': 'zaterdag', 'bodyType': 'Resolution', 'sessionDate': '1705-05-23', 'sessionDay': 23, 'sessionMonth': 5, 'sessionYear': 1705}, {'_id': 'urn:republic:inv-3760-date-1705-05-23-session-136-resolution-22', 'textType': 'printed', 'resolutionType': 'ordinaris', 'propositionType': 'rekest', 'sessionWeekday': 'zaterdag', 'bodyType': 'Resolution', 'sessionDate': '1705-05-23', 'sessionDay': 23, 'sessionMonth': 5, 'sessionYear': 1705}, {'_id': 'urn:republic:inv-3760-date-1705-05-23-session-136-resolution-27', 'textType': 'printed', 'resolutionType': 'ordinaris', 'propositionType': 'rekest', 'sessionWeekday': 'zaterdag', 'bodyType': 'Resolution', 'sessionDate': '1705-05-23', 'sessionDay': 23, 'sessionMonth': 5, 'sessionYear': 1705}, {'_id': 'urn:republic:inv-3760-date-1705-05-23-session-136-resolution-28', 'textType': 'printed', 'resolutionType': 'ordinaris', 'propositionType': 'rekest', 'sessionWeekday': 'zaterdag', 'bodyType': 'Resolution', 'sessionDate': '1705-05-23', 'sessionDay': 23, 'sessionMonth': 5, 'sessionYear': 1705}, {'_id': 'urn:republic:inv-3760-date-1705-05-23-session-136-resolution-29', 'textType': 'printed', 'resolutionType': 'ordinaris', 'propositionType': 'rekest', 'sessionWeekday': 'zaterdag', 'bodyType': 'Resolution', 'sessionDate': '1705-05-23', 'sessionDay': 23, 'sessionMonth': 5, 'sessionYear': 1705}, {'_id': 'urn:republic:inv-3760-date-1705-05-23-session-136-resolution-30', 'textType': 'printed', 'resolutionType': 'ordinaris', 'propositionType': 'rekest', 'sessionWeekday': 'zaterdag', 'bodyType': 'Resolution', 'sessionDate': '1705-05-23', 'sessionDay': 23, 'sessionMonth': 5, 'sessionYear': 1705}, {'_id': 'urn:republic:inv-3760-date-1705-05-23-session-136-resolution-35', 'textType': 'printed', 'resolutionType': 'ordinaris', 'propositionType': 'rekest', 'sessionWeekday': 'zaterdag', 'bodyType': 'Resolution', 'sessionDate': '1705-05-23', 'sessionDay': 23, 'sessionMonth': 5, 'sessionYear': 1705}, {'_id': 'urn:republic:inv-3760-date-1705-05-23-session-136-resolution-36', 'textType': 'printed', 'resolutionType': 'ordinaris', 'propositionType': 'rekest', 'sessionWeekday': 'zaterdag', 'bodyType': 'Resolution', 'sessionDate': '1705-05-23', 'sessionDay': 23, 'sessionMonth': 5, 'sessionYear': 1705}, {'_id': 'urn:republic:inv-3760-date-1705-05-23-session-136-resolution-37', 'textType': 'printed', 'resolutionType': 'ordinaris', 'propositionType': 'rekest', 'sessionWeekday': 'zaterdag', 'bodyType': 'Resolution', 'sessionDate': '1705-05-23', 'sessionDay': 23, 'sessionMonth': 5, 'sessionYear': 1705}, {'_id': 'urn:republic:inv-3760-date-1705-05-23-session-136-resolution-38', 'textType': 'printed', 'resolutionType': 'ordinaris', 'propositionType': 'rekest', 'sessionWeekday': 'zaterdag', 'bodyType': 'Resolution', 'sessionDate': '1705-05-23', 'sessionDay': 23, 'sessionMonth': 5, 'sessionYear': 1705}, {'_id': 'urn:republic:inv-3760-date-1705-05-23-session-136-resolution-39', 'textType': 'printed', 'resolutionType': 'ordinaris', 'propositionType': 'rekest', 'sessionWeekday': 'zaterdag', 'bodyType': 'Resolution', 'sessionDate': '1705-05-23', 'sessionDay': 23, 'sessionMonth': 5, 'sessionYear': 1705}, {'_id': 'urn:republic:inv-3760-date-1705-05-25-session-138-resolution-10', 'textType': 'printed', 'resolutionType': 'ordinaris', 'propositionType': 'rekest', 'sessionWeekday': 'maandag', 'bodyType': 'Resolution', 'sessionDate': '1705-05-25', 'sessionDay': 25, 'sessionMonth': 5, 'sessionYear': 1705}, {'_id': 'urn:republic:inv-3760-date-1705-05-25-session-138-resolution-12', 'textType': 'printed', 'resolutionType': 'ordinaris', 'propositionType': 'rekest', 'sessionWeekday': 'maandag', 'bodyType': 'Resolution', 'sessionDate': '1705-05-25', 'sessionDay': 25, 'sessionMonth': 5, 'sessionYear': 1705}, {'_id': 'urn:republic:inv-3760-date-1705-05-25-session-138-resolution-13', 'textType': 'printed', 'resolutionType': 'ordinaris', 'propositionType': 'rekest', 'sessionWeekday': 'maandag', 'bodyType': 'Resolution', 'sessionDate': '1705-05-25', 'sessionDay': 25, 'sessionMonth': 5, 'sessionYear': 1705}, {'_id': 'urn:republic:inv-3760-date-1705-05-25-session-138-resolution-14', 'textType': 'printed', 'resolutionType': 'ordinaris', 'propositionType': 'rekest', 'sessionWeekday': 'maandag', 'bodyType': 'Resolution', 'sessionDate': '1705-05-25', 'sessionDay': 25, 'sessionMonth': 5, 'sessionYear': 1705}, {'_id': 'urn:republic:inv-3760-date-1705-05-25-session-138-resolution-16', 'textType': 'printed', 'resolutionType': 'ordinaris', 'propositionType': 'rekest', 'sessionWeekday': 'maandag', 'bodyType': 'Resolution', 'sessionDate': '1705-05-25', 'sessionDay': 25, 'sessionMonth': 5, 'sessionYear': 1705}, {'_id': 'urn:republic:inv-3760-date-1705-05-25-session-138-resolution-17', 'textType': 'printed', 'resolutionType': 'ordinaris', 'propositionType': 'rekest', 'sessionWeekday': 'maandag', 'bodyType': 'Resolution', 'sessionDate': '1705-05-25', 'sessionDay': 25, 'sessionMonth': 5, 'sessionYear': 1705}, {'_id': 'urn:republic:inv-3760-date-1705-05-25-session-138-resolution-18', 'textType': 'printed', 'resolutionType': 'ordinaris', 'propositionType': 'rekest', 'sessionWeekday': 'maandag', 'bodyType': 'Resolution', 'sessionDate': '1705-05-25', 'sessionDay': 25, 'sessionMonth': 5, 'sessionYear': 1705}, {'_id': 'urn:republic:inv-3760-date-1705-05-25-session-138-resolution-19', 'textType': 'printed', 'resolutionType': 'ordinaris', 'propositionType': 'rekest', 'sessionWeekday': 'maandag', 'bodyType': 'Resolution', 'sessionDate': '1705-05-25', 'sessionDay': 25, 'sessionMonth': 5, 'sessionYear': 1705}, {'_id': 'urn:republic:inv-3760-date-1705-05-25-session-138-resolution-22', 'textType': 'printed', 'resolutionType': 'ordinaris', 'propositionType': 'rekest', 'sessionWeekday': 'maandag', 'bodyType': 'Resolution', 'sessionDate': '1705-05-25', 'sessionDay': 25, 'sessionMonth': 5, 'sessionYear': 1705}, {'_id': 'urn:republic:inv-3760-date-1705-05-25-session-138-resolution-23', 'textType': 'printed', 'resolutionType': 'ordinaris', 'propositionType': 'rekest', 'sessionWeekday': 'maandag', 'bodyType': 'Resolution', 'sessionDate': '1705-05-25', 'sessionDay': 25, 'sessionMonth': 5, 'sessionYear': 1705}, {'_id': 'urn:republic:inv-3760-date-1705-05-25-session-138-resolution-24', 'textType': 'printed', 'resolutionType': 'ordinaris', 'propositionType': 'rekest', 'sessionWeekday': 'maandag', 'bodyType': 'Resolution', 'sessionDate': '1705-05-25', 'sessionDay': 25, 'sessionMonth': 5, 'sessionYear': 1705}, {'_id': 'urn:republic:inv-3760-date-1705-05-25-session-138-resolution-25', 'textType': 'printed', 'resolutionType': 'ordinaris', 'propositionType': 'rekest', 'sessionWeekday': 'maandag', 'bodyType': 'Resolution', 'sessionDate': '1705-05-25', 'sessionDay': 25, 'sessionMonth': 5, 'sessionYear': 1705}, {'_id': 'urn:republic:inv-3760-date-1705-05-25-session-138-resolution-26', 'textType': 'printed', 'resolutionType': 'ordinaris', 'propositionType': 'rekest', 'sessionWeekday': 'maandag', 'bodyType': 'Resolution', 'sessionDate': '1705-05-25', 'sessionDay': 25, 'sessionMonth': 5, 'sessionYear': 1705}, {'_id': 'urn:republic:inv-3760-date-1705-05-25-session-138-resolution-39', 'textType': 'printed', 'resolutionType': 'ordinaris', 'propositionType': 'rekest', 'sessionWeekday': 'maandag', 'bodyType': 'Resolution', 'sessionDate': '1705-05-25', 'sessionDay': 25, 'sessionMonth': 5, 'sessionYear': 1705}, {'_id': 'urn:republic:inv-3760-date-1705-05-26-session-139-resolution-4', 'textType': 'printed', 'resolutionType': 'ordinaris', 'propositionType': 'rekest', 'sessionWeekday': 'dinsdag', 'bodyType': 'Resolution', 'sessionDate': '1705-05-26', 'sessionDay': 26, 'sessionMonth': 5, 'sessionYear': 1705}, {'_id': 'urn:republic:inv-3760-date-1705-05-26-session-139-resolution-5', 'textType': 'printed', 'resolutionType': 'ordinaris', 'propositionType': 'rekest', 'sessionWeekday': 'dinsdag', 'bodyType': 'Resolution', 'sessionDate': '1705-05-26', 'sessionDay': 26, 'sessionMonth': 5, 'sessionYear': 1705}, {'_id': 'urn:republic:inv-3760-date-1705-05-26-session-139-resolution-8', 'textType': 'printed', 'resolutionType': 'ordinaris', 'propositionType': 'rekest', 'sessionWeekday': 'dinsdag', 'bodyType': 'Resolution', 'sessionDate': '1705-05-26', 'sessionDay': 26, 'sessionMonth': 5, 'sessionYear': 1705}, {'_id': 'urn:republic:inv-3760-date-1705-05-26-session-139-resolution-9', 'textType': 'printed', 'resolutionType': 'ordinaris', 'propositionType': 'rekest', 'sessionWeekday': 'dinsdag', 'bodyType': 'Resolution', 'sessionDate': '1705-05-26', 'sessionDay': 26, 'sessionMonth': 5, 'sessionYear': 1705}, {'_id': 'urn:republic:inv-3760-date-1705-05-26-session-139-resolution-10', 'textType': 'printed', 'resolutionType': 'ordinaris', 'propositionType': 'rekest', 'sessionWeekday': 'dinsdag', 'bodyType': 'Resolution', 'sessionDate': '1705-05-26', 'sessionDay': 26, 'sessionMonth': 5, 'sessionYear': 1705}, {'_id': 'urn:republic:inv-3760-date-1705-05-26-session-139-resolution-11', 'textType': 'printed', 'resolutionType': 'ordinaris', 'propositionType': 'rekest', 'sessionWeekday': 'dinsdag', 'bodyType': 'Resolution', 'sessionDate': '1705-05-26', 'sessionDay': 26, 'sessionMonth': 5, 'sessionYear': 1705}, {'_id': 'urn:republic:inv-3760-date-1705-05-26-session-139-resolution-12', 'textType': 'printed', 'resolutionType': 'ordinaris', 'propositionType': 'rekest', 'sessionWeekday': 'dinsdag', 'bodyType': 'Resolution', 'sessionDate': '1705-05-26', 'sessionDay': 26, 'sessionMonth': 5, 'sessionYear': 1705}, {'_id': 'urn:republic:inv-3760-date-1705-05-26-session-139-resolution-13', 'textType': 'printed', 'resolutionType': 'ordinaris', 'propositionType': 'rekest', 'sessionWeekday': 'dinsdag', 'bodyType': 'Resolution', 'sessionDate': '1705-05-26', 'sessionDay': 26, 'sessionMonth': 5, 'sessionYear': 1705}, {'_id': 'urn:republic:inv-3760-date-1705-05-26-session-139-resolution-14', 'textType': 'printed', 'resolutionType': 'ordinaris', 'propositionType': 'rekest', 'sessionWeekday': 'dinsdag', 'bodyType': 'Resolution', 'sessionDate': '1705-05-26', 'sessionDay': 26, 'sessionMonth': 5, 'sessionYear': 1705}, {'_id': 'urn:republic:inv-3760-date-1705-05-26-session-139-resolution-17', 'textType': 'printed', 'resolutionType': 'ordinaris', 'propositionType': 'rekest', 'sessionWeekday': 'dinsdag', 'bodyType': 'Resolution', 'sessionDate': '1705-05-26', 'sessionDay': 26, 'sessionMonth': 5, 'sessionYear': 1705}, {'_id': 'urn:republic:inv-3760-date-1705-05-26-session-139-resolution-18', 'textType': 'printed', 'resolutionType': 'ordinaris', 'propositionType': 'rekest', 'sessionWeekday': 'dinsdag', 'bodyType': 'Resolution', 'sessionDate': '1705-05-26', 'sessionDay': 26, 'sessionMonth': 5, 'sessionYear': 1705}, {'_id': 'urn:republic:inv-3760-date-1705-05-26-session-139-resolution-19', 'textType': 'printed', 'resolutionType': 'ordinaris', 'propositionType': 'rekest', 'sessionWeekday': 'dinsdag', 'bodyType': 'Resolution', 'sessionDate': '1705-05-26', 'sessionDay': 26, 'sessionMonth': 5, 'sessionYear': 1705}, {'_id': 'urn:republic:inv-3760-date-1705-05-26-session-139-resolution-20', 'textType': 'printed', 'resolutionType': 'ordinaris', 'propositionType': 'rekest', 'sessionWeekday': 'dinsdag', 'bodyType': 'Resolution', 'sessionDate': '1705-05-26', 'sessionDay': 26, 'sessionMonth': 5, 'sessionYear': 1705}, {'_id': 'urn:republic:inv-3760-date-1705-05-26-session-139-resolution-22', 'textType': 'printed', 'resolutionType': 'ordinaris', 'propositionType': 'rekest', 'sessionWeekday': 'dinsdag', 'bodyType': 'Resolution', 'sessionDate': '1705-05-26', 'sessionDay': 26, 'sessionMonth': 5, 'sessionYear': 1705}], 'aggs': {}}\n"
     ]
    }
   ],
   "source": [
    "import pandas as pd\n",
    "\n",
    "end_reached = False\n",
    "\n",
    "base_url = \"https://api.goetgevonden.nl/projects/republic/search\"\n",
    "\n",
    "params = {\n",
    "    'indexName': 'republic-2024.11.30',\n",
    "    'fragmentSize': 10,\n",
    "    'sortBy':'_score',\n",
    "    'sortOrder': 'desc',\n",
    "    'from': 0,\n",
    "    'size': 5\n",
    "}\n",
    "\n",
    "body = {\n",
    "    'terms': {'propositionType':['rekest']},\n",
    "    'date': {\n",
    "        'name': 'sessionDate',\n",
    "        'from': '1700-01-01',\n",
    "        'to': '1796-03-01'\n",
    "    }\n",
    "}\n",
    "\n",
    "start = 0\n",
    "size = 100\n",
    "\n",
    "def get_page_results(starting, size):\n",
    "    params['from'] = starting\n",
    "    params['size'] = size\n",
    "\n",
    "    result = rq.post(url=base_url, params=params, json=body)\n",
    "\n",
    "    if starting == 0:\n",
    "        print(result.json())\n",
    "    \n",
    "    return result.json()\n",
    "\n",
    "all_results = []\n",
    "\n",
    "while not end_reached:\n",
    "    res = get_page_results(start, size)\n",
    "    start += size\n",
    "\n",
    "    if not res or not 'results' in res.keys():\n",
    "        end_reached = True\n",
    "    else:\n",
    "        for r in res['results']:\n",
    "            record = [r['_id'], r['sessionMonth']]\n",
    "            all_results.append(record)\n"
   ]
  },
  {
   "cell_type": "code",
   "execution_count": 8,
   "metadata": {},
   "outputs": [
    {
     "data": {
      "text/html": [
       "<div>\n",
       "<style scoped>\n",
       "    .dataframe tbody tr th:only-of-type {\n",
       "        vertical-align: middle;\n",
       "    }\n",
       "\n",
       "    .dataframe tbody tr th {\n",
       "        vertical-align: top;\n",
       "    }\n",
       "\n",
       "    .dataframe thead th {\n",
       "        text-align: right;\n",
       "    }\n",
       "</style>\n",
       "<table border=\"1\" class=\"dataframe\">\n",
       "  <thead>\n",
       "    <tr style=\"text-align: right;\">\n",
       "      <th></th>\n",
       "      <th>0</th>\n",
       "      <th>1</th>\n",
       "    </tr>\n",
       "  </thead>\n",
       "  <tbody>\n",
       "    <tr>\n",
       "      <th>0</th>\n",
       "      <td>urn:republic:inv-3760-date-1705-05-18-session-...</td>\n",
       "      <td>5</td>\n",
       "    </tr>\n",
       "    <tr>\n",
       "      <th>1</th>\n",
       "      <td>urn:republic:inv-3760-date-1705-05-18-session-...</td>\n",
       "      <td>5</td>\n",
       "    </tr>\n",
       "    <tr>\n",
       "      <th>2</th>\n",
       "      <td>urn:republic:inv-3760-date-1705-05-18-session-...</td>\n",
       "      <td>5</td>\n",
       "    </tr>\n",
       "    <tr>\n",
       "      <th>3</th>\n",
       "      <td>urn:republic:inv-3760-date-1705-05-18-session-...</td>\n",
       "      <td>5</td>\n",
       "    </tr>\n",
       "    <tr>\n",
       "      <th>4</th>\n",
       "      <td>urn:republic:inv-3760-date-1705-05-18-session-...</td>\n",
       "      <td>5</td>\n",
       "    </tr>\n",
       "    <tr>\n",
       "      <th>...</th>\n",
       "      <td>...</td>\n",
       "      <td>...</td>\n",
       "    </tr>\n",
       "    <tr>\n",
       "      <th>9995</th>\n",
       "      <td>urn:republic:inv-3761-date-1706-03-18-session-...</td>\n",
       "      <td>3</td>\n",
       "    </tr>\n",
       "    <tr>\n",
       "      <th>9996</th>\n",
       "      <td>urn:republic:inv-3761-date-1706-03-18-session-...</td>\n",
       "      <td>3</td>\n",
       "    </tr>\n",
       "    <tr>\n",
       "      <th>9997</th>\n",
       "      <td>urn:republic:inv-3761-date-1706-03-18-session-...</td>\n",
       "      <td>3</td>\n",
       "    </tr>\n",
       "    <tr>\n",
       "      <th>9998</th>\n",
       "      <td>urn:republic:inv-3761-date-1706-03-18-session-...</td>\n",
       "      <td>3</td>\n",
       "    </tr>\n",
       "    <tr>\n",
       "      <th>9999</th>\n",
       "      <td>urn:republic:inv-3761-date-1706-03-18-session-...</td>\n",
       "      <td>3</td>\n",
       "    </tr>\n",
       "  </tbody>\n",
       "</table>\n",
       "<p>10000 rows × 2 columns</p>\n",
       "</div>"
      ],
      "text/plain": [
       "                                                      0  1\n",
       "0     urn:republic:inv-3760-date-1705-05-18-session-...  5\n",
       "1     urn:republic:inv-3760-date-1705-05-18-session-...  5\n",
       "2     urn:republic:inv-3760-date-1705-05-18-session-...  5\n",
       "3     urn:republic:inv-3760-date-1705-05-18-session-...  5\n",
       "4     urn:republic:inv-3760-date-1705-05-18-session-...  5\n",
       "...                                                 ... ..\n",
       "9995  urn:republic:inv-3761-date-1706-03-18-session-...  3\n",
       "9996  urn:republic:inv-3761-date-1706-03-18-session-...  3\n",
       "9997  urn:republic:inv-3761-date-1706-03-18-session-...  3\n",
       "9998  urn:republic:inv-3761-date-1706-03-18-session-...  3\n",
       "9999  urn:republic:inv-3761-date-1706-03-18-session-...  3\n",
       "\n",
       "[10000 rows x 2 columns]"
      ]
     },
     "execution_count": 8,
     "metadata": {},
     "output_type": "execute_result"
    }
   ],
   "source": [
    "df = pd.DataFrame(all_results)\n",
    "df"
   ]
  },
  {
   "cell_type": "markdown",
   "metadata": {},
   "source": [
    "Ok, 2 issues: 1 gracefully detect the end of results and 2 the built in maximum number of ES results. See above: for the moment handled by checking if the result contain a 'results' field."
   ]
  },
  {
   "cell_type": "markdown",
   "metadata": {},
   "source": [
    "Next issue: overcome the 10k barrier. Potentially in parallel on basis of 10k results: 1. add province of president metadata 2. collect texts for each result 3. collect entities for each result"
   ]
  },
  {
   "cell_type": "code",
   "execution_count": null,
   "metadata": {},
   "outputs": [],
   "source": [
    "res_detail_query = \"https://api.goetgevonden.nl/projects/republic/urn:republic:inv-3773-date-1718-05-04-session-118-resolution-5?overlapTypes=Resolution,Session,Entity,Page,DateOccurrence&includeResults=anno,iiif,text&views=self&relativeTo=Origin\"\n",
    "result = rq.get(res_detail_query, params = params)\n",
    "\n",
    "result.json()"
   ]
  },
  {
   "cell_type": "code",
   "execution_count": null,
   "metadata": {},
   "outputs": [],
   "source": []
  }
 ],
 "metadata": {
  "kernelspec": {
   "display_name": ".venv",
   "language": "python",
   "name": "python3"
  },
  "language_info": {
   "codemirror_mode": {
    "name": "ipython",
    "version": 3
   },
   "file_extension": ".py",
   "mimetype": "text/x-python",
   "name": "python",
   "nbconvert_exporter": "python",
   "pygments_lexer": "ipython3",
   "version": "3.11.1"
  }
 },
 "nbformat": 4,
 "nbformat_minor": 2
}
